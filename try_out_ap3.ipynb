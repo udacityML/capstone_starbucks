{
 "cells": [
  {
   "cell_type": "markdown",
   "metadata": {},
   "source": [
    "# Starbucks Capstone Challenge\n",
    "\n",
    "### Introduction\n",
    "\n",
    "This data set contains simulated data that mimics customer behavior on the Starbucks rewards mobile app. Once every few days, Starbucks sends out an offer to users of the mobile app. An offer can be merely an advertisement for a drink or an actual offer such as a discount or BOGO (buy one get one free). Some users might not receive any offer during certain weeks. \n",
    "\n",
    "Not all users receive the same offer, and that is the challenge to solve with this data set.\n",
    "\n",
    "Your task is to combine transaction, demographic and offer data to determine which demographic groups respond best to which offer type. This data set is a simplified version of the real Starbucks app because the underlying simulator only has one product whereas Starbucks actually sells dozens of products.\n",
    "\n",
    "Every offer has a validity period before the offer expires. As an example, a BOGO offer might be valid for only 5 days. You'll see in the data set that informational offers have a validity period even though these ads are merely providing information about a product; for example, if an informational offer has 7 days of validity, you can assume the customer is feeling the influence of the offer for 7 days after receiving the advertisement.\n",
    "\n",
    "You'll be given transactional data showing user purchases made on the app including the timestamp of purchase and the amount of money spent on a purchase. This transactional data also has a record for each offer that a user receives as well as a record for when a user actually views the offer. There are also records for when a user completes an offer. \n",
    "\n",
    "Keep in mind as well that someone using the app might make a purchase through the app without having received an offer or seen an offer.\n",
    "\n",
    "### Example\n",
    "\n",
    "To give an example, a user could receive a discount offer buy 10 dollars get 2 off on Monday. The offer is valid for 10 days from receipt. If the customer accumulates at least 10 dollars in purchases during the validity period, the customer completes the offer.\n",
    "\n",
    "However, there are a few things to watch out for in this data set. Customers do not opt into the offers that they receive; in other words, a user can receive an offer, never actually view the offer, and still complete the offer. For example, a user might receive the \"buy 10 dollars get 2 dollars off offer\", but the user never opens the offer during the 10 day validity period. The customer spends 15 dollars during those ten days. There will be an offer completion record in the data set; however, the customer was not influenced by the offer because the customer never viewed the offer.\n",
    "\n",
    "### Cleaning\n",
    "\n",
    "This makes data cleaning especially important and tricky.\n",
    "\n",
    "You'll also want to take into account that some demographic groups will make purchases even if they don't receive an offer. From a business perspective, if a customer is going to make a 10 dollar purchase without an offer anyway, you wouldn't want to send a buy 10 dollars get 2 dollars off offer. You'll want to try to assess what a certain demographic group will buy when not receiving any offers.\n",
    "\n",
    "### Final Advice\n",
    "\n",
    "Because this is a capstone project, you are free to analyze the data any way you see fit. For example, you could build a machine learning model that predicts how much someone will spend based on demographics and offer type. Or you could build a model that predicts whether or not someone will respond to an offer. Or, you don't need to build a machine learning model at all. You could develop a set of heuristics that determine what offer you should send to each customer (i.e., 75 percent of women customers who were 35 years old responded to offer A vs 40 percent from the same demographic to offer B, so send offer A)."
   ]
  },
  {
   "cell_type": "markdown",
   "metadata": {},
   "source": [
    "# Data Sets\n",
    "\n",
    "The data is contained in three files:\n",
    "\n",
    "* portfolio.json - containing offer ids and meta data about each offer (duration, type, etc.)\n",
    "* profile.json - demographic data for each customer\n",
    "* transcript.json - records for transactions, offers received, offers viewed, and offers completed\n",
    "\n",
    "Here is the schema and explanation of each variable in the files:\n",
    "\n",
    "**portfolio.json**\n",
    "* id (string) - offer id\n",
    "* offer_type (string) - type of offer ie BOGO, discount, informational\n",
    "* difficulty (int) - minimum required spend to complete an offer\n",
    "* reward (int) - reward given for completing an offer\n",
    "* duration (int) - time for offer to be open, in days\n",
    "* channels (list of strings)\n",
    "\n",
    "**profile.json**\n",
    "* age (int) - age of the customer \n",
    "* became_member_on (int) - date when customer created an app account\n",
    "* gender (str) - gender of the customer (note some entries contain 'O' for other rather than M or F)\n",
    "* id (str) - customer id\n",
    "* income (float) - customer's income\n",
    "\n",
    "**transcript.json**\n",
    "* event (str) - record description (ie transaction, offer received, offer viewed, etc.)\n",
    "* person (str) - customer id\n",
    "* time (int) - time in hours since start of test. The data begins at time t=0\n",
    "* value - (dict of strings) - either an offer id or transaction amount depending on the record\n",
    "\n",
    "**Note:** If you are using the workspace, you will need to go to the terminal and run the command `conda update pandas` before reading in the files. This is because the version of pandas in the workspace cannot read in the transcript.json file correctly, but the newest version of pandas can. You can access the termnal from the orange icon in the top left of this notebook.  \n",
    "\n",
    "You can see how to access the terminal and how the install works using the two images below.  First you need to access the terminal:\n",
    "\n",
    "<img src=\"pic1.png\"/>\n",
    "\n",
    "Then you will want to run the above command:\n",
    "\n",
    "<img src=\"pic2.png\"/>\n",
    "\n",
    "Finally, when you enter back into the notebook (use the jupyter icon again), you should be able to run the below cell without any errors."
   ]
  },
  {
   "cell_type": "code",
   "execution_count": 336,
   "metadata": {},
   "outputs": [],
   "source": [
    "import pandas as pd\n",
    "import numpy as np\n",
    "import math\n",
    "import json\n",
    "import os\n",
    "import matplotlib.pyplot as plt\n",
    "# % matplotlib inline\n",
    "\n",
    "# read in the json files\n",
    "portfolio = pd.read_json('data/portfolio.json', orient='records', lines=True)\n",
    "profile = pd.read_json('data/profile.json', orient='records', lines=True)\n",
    "transcript = pd.read_json('data/transcript.json', orient='records', lines=True)"
   ]
  },
  {
   "cell_type": "markdown",
   "metadata": {},
   "source": [
    "lets have a look at the raw data"
   ]
  },
  {
   "cell_type": "code",
   "execution_count": 337,
   "metadata": {},
   "outputs": [
    {
     "data": {
      "text/html": [
       "<div>\n",
       "<style scoped>\n",
       "    .dataframe tbody tr th:only-of-type {\n",
       "        vertical-align: middle;\n",
       "    }\n",
       "\n",
       "    .dataframe tbody tr th {\n",
       "        vertical-align: top;\n",
       "    }\n",
       "\n",
       "    .dataframe thead th {\n",
       "        text-align: right;\n",
       "    }\n",
       "</style>\n",
       "<table border=\"1\" class=\"dataframe\">\n",
       "  <thead>\n",
       "    <tr style=\"text-align: right;\">\n",
       "      <th></th>\n",
       "      <th>reward</th>\n",
       "      <th>channels</th>\n",
       "      <th>difficulty</th>\n",
       "      <th>duration</th>\n",
       "      <th>offer_type</th>\n",
       "      <th>id</th>\n",
       "    </tr>\n",
       "  </thead>\n",
       "  <tbody>\n",
       "    <tr>\n",
       "      <th>0</th>\n",
       "      <td>10</td>\n",
       "      <td>[email, mobile, social]</td>\n",
       "      <td>10</td>\n",
       "      <td>168</td>\n",
       "      <td>bogo</td>\n",
       "      <td>ae264e3637204a6fb9bb56bc8210ddfd</td>\n",
       "    </tr>\n",
       "    <tr>\n",
       "      <th>1</th>\n",
       "      <td>10</td>\n",
       "      <td>[web, email, mobile, social]</td>\n",
       "      <td>10</td>\n",
       "      <td>120</td>\n",
       "      <td>bogo</td>\n",
       "      <td>4d5c57ea9a6940dd891ad53e9dbe8da0</td>\n",
       "    </tr>\n",
       "    <tr>\n",
       "      <th>2</th>\n",
       "      <td>0</td>\n",
       "      <td>[web, email, mobile]</td>\n",
       "      <td>0</td>\n",
       "      <td>96</td>\n",
       "      <td>informational</td>\n",
       "      <td>3f207df678b143eea3cee63160fa8bed</td>\n",
       "    </tr>\n",
       "    <tr>\n",
       "      <th>3</th>\n",
       "      <td>5</td>\n",
       "      <td>[web, email, mobile]</td>\n",
       "      <td>5</td>\n",
       "      <td>168</td>\n",
       "      <td>bogo</td>\n",
       "      <td>9b98b8c7a33c4b65b9aebfe6a799e6d9</td>\n",
       "    </tr>\n",
       "    <tr>\n",
       "      <th>4</th>\n",
       "      <td>5</td>\n",
       "      <td>[web, email]</td>\n",
       "      <td>20</td>\n",
       "      <td>240</td>\n",
       "      <td>discount</td>\n",
       "      <td>0b1e1539f2cc45b7b9fa7c272da2e1d7</td>\n",
       "    </tr>\n",
       "    <tr>\n",
       "      <th>5</th>\n",
       "      <td>3</td>\n",
       "      <td>[web, email, mobile, social]</td>\n",
       "      <td>7</td>\n",
       "      <td>168</td>\n",
       "      <td>discount</td>\n",
       "      <td>2298d6c36e964ae4a3e7e9706d1fb8c2</td>\n",
       "    </tr>\n",
       "    <tr>\n",
       "      <th>6</th>\n",
       "      <td>2</td>\n",
       "      <td>[web, email, mobile, social]</td>\n",
       "      <td>10</td>\n",
       "      <td>240</td>\n",
       "      <td>discount</td>\n",
       "      <td>fafdcd668e3743c1bb461111dcafc2a4</td>\n",
       "    </tr>\n",
       "    <tr>\n",
       "      <th>7</th>\n",
       "      <td>0</td>\n",
       "      <td>[email, mobile, social]</td>\n",
       "      <td>0</td>\n",
       "      <td>72</td>\n",
       "      <td>informational</td>\n",
       "      <td>5a8bc65990b245e5a138643cd4eb9837</td>\n",
       "    </tr>\n",
       "    <tr>\n",
       "      <th>8</th>\n",
       "      <td>5</td>\n",
       "      <td>[web, email, mobile, social]</td>\n",
       "      <td>5</td>\n",
       "      <td>120</td>\n",
       "      <td>bogo</td>\n",
       "      <td>f19421c1d4aa40978ebb69ca19b0e20d</td>\n",
       "    </tr>\n",
       "    <tr>\n",
       "      <th>9</th>\n",
       "      <td>2</td>\n",
       "      <td>[web, email, mobile]</td>\n",
       "      <td>10</td>\n",
       "      <td>168</td>\n",
       "      <td>discount</td>\n",
       "      <td>2906b810c7d4411798c6938adc9daaa5</td>\n",
       "    </tr>\n",
       "  </tbody>\n",
       "</table>\n",
       "</div>"
      ],
      "text/plain": [
       "   reward                      channels  difficulty  duration     offer_type  \\\n",
       "0      10       [email, mobile, social]          10       168           bogo   \n",
       "1      10  [web, email, mobile, social]          10       120           bogo   \n",
       "2       0          [web, email, mobile]           0        96  informational   \n",
       "3       5          [web, email, mobile]           5       168           bogo   \n",
       "4       5                  [web, email]          20       240       discount   \n",
       "5       3  [web, email, mobile, social]           7       168       discount   \n",
       "6       2  [web, email, mobile, social]          10       240       discount   \n",
       "7       0       [email, mobile, social]           0        72  informational   \n",
       "8       5  [web, email, mobile, social]           5       120           bogo   \n",
       "9       2          [web, email, mobile]          10       168       discount   \n",
       "\n",
       "                                 id  \n",
       "0  ae264e3637204a6fb9bb56bc8210ddfd  \n",
       "1  4d5c57ea9a6940dd891ad53e9dbe8da0  \n",
       "2  3f207df678b143eea3cee63160fa8bed  \n",
       "3  9b98b8c7a33c4b65b9aebfe6a799e6d9  \n",
       "4  0b1e1539f2cc45b7b9fa7c272da2e1d7  \n",
       "5  2298d6c36e964ae4a3e7e9706d1fb8c2  \n",
       "6  fafdcd668e3743c1bb461111dcafc2a4  \n",
       "7  5a8bc65990b245e5a138643cd4eb9837  \n",
       "8  f19421c1d4aa40978ebb69ca19b0e20d  \n",
       "9  2906b810c7d4411798c6938adc9daaa5  "
      ]
     },
     "execution_count": 337,
     "metadata": {},
     "output_type": "execute_result"
    }
   ],
   "source": [
    "portfolio['duration'] = portfolio['duration']*24 #make duration in hours to match transaction table later\n",
    "portfolio"
   ]
  },
  {
   "cell_type": "markdown",
   "metadata": {},
   "source": [
    "first lets create numerical data out of the offer_type, since it is either ```bogo```, ```discount``` or ```informational``` . Lateron we can remove the last column since being dependant of the first two when using the dataframe for training a model."
   ]
  },
  {
   "cell_type": "code",
   "execution_count": 338,
   "metadata": {},
   "outputs": [],
   "source": [
    "# portfolio = pd.concat([portfolio, pd.get_dummies(portfolio.offer_type)[['bogo','discount','informational']]],axis=1)\n",
    "# portfolio.drop('offer_type',axis=1,inplace=True)\n",
    "# portfolio"
   ]
  },
  {
   "cell_type": "markdown",
   "metadata": {},
   "source": [
    "lets also proceed in the same manner with the ```channels```"
   ]
  },
  {
   "cell_type": "code",
   "execution_count": 339,
   "metadata": {},
   "outputs": [],
   "source": [
    "# # find all unique values of chanenls \n",
    "\n",
    "# unique_channels = list(set(portfolio.channels.sum())) #what are possible channels\n",
    "# unique_channels= [str(channel) for channel in unique_channels] #convert to non unicode strings\n",
    "\n",
    "\n",
    "# # create columns for unique values of channels and do one-hot-encoding - later we might want to reduce it by one dependant column\n",
    "\n",
    "# for channel in unique_channels:\n",
    "#     portfolio[channel] = portfolio['channels'].apply(lambda x: 1 if channel in x else 0)\n",
    "# portfolio.drop('channels',axis=1, inplace=True)\n",
    "\n",
    "# portfolio"
   ]
  },
  {
   "cell_type": "code",
   "execution_count": 340,
   "metadata": {},
   "outputs": [],
   "source": [
    "# portfolio.set_index('id',inplace=True)"
   ]
  },
  {
   "cell_type": "code",
   "execution_count": 341,
   "metadata": {},
   "outputs": [
    {
     "data": {
      "text/html": [
       "<div>\n",
       "<style scoped>\n",
       "    .dataframe tbody tr th:only-of-type {\n",
       "        vertical-align: middle;\n",
       "    }\n",
       "\n",
       "    .dataframe tbody tr th {\n",
       "        vertical-align: top;\n",
       "    }\n",
       "\n",
       "    .dataframe thead th {\n",
       "        text-align: right;\n",
       "    }\n",
       "</style>\n",
       "<table border=\"1\" class=\"dataframe\">\n",
       "  <thead>\n",
       "    <tr style=\"text-align: right;\">\n",
       "      <th></th>\n",
       "      <th>reward</th>\n",
       "      <th>channels</th>\n",
       "      <th>difficulty</th>\n",
       "      <th>duration</th>\n",
       "      <th>offer_type</th>\n",
       "      <th>id</th>\n",
       "    </tr>\n",
       "  </thead>\n",
       "  <tbody>\n",
       "    <tr>\n",
       "      <th>0</th>\n",
       "      <td>10</td>\n",
       "      <td>[email, mobile, social]</td>\n",
       "      <td>10</td>\n",
       "      <td>168</td>\n",
       "      <td>bogo</td>\n",
       "      <td>ae264e3637204a6fb9bb56bc8210ddfd</td>\n",
       "    </tr>\n",
       "    <tr>\n",
       "      <th>1</th>\n",
       "      <td>10</td>\n",
       "      <td>[web, email, mobile, social]</td>\n",
       "      <td>10</td>\n",
       "      <td>120</td>\n",
       "      <td>bogo</td>\n",
       "      <td>4d5c57ea9a6940dd891ad53e9dbe8da0</td>\n",
       "    </tr>\n",
       "    <tr>\n",
       "      <th>2</th>\n",
       "      <td>0</td>\n",
       "      <td>[web, email, mobile]</td>\n",
       "      <td>0</td>\n",
       "      <td>96</td>\n",
       "      <td>informational</td>\n",
       "      <td>3f207df678b143eea3cee63160fa8bed</td>\n",
       "    </tr>\n",
       "    <tr>\n",
       "      <th>3</th>\n",
       "      <td>5</td>\n",
       "      <td>[web, email, mobile]</td>\n",
       "      <td>5</td>\n",
       "      <td>168</td>\n",
       "      <td>bogo</td>\n",
       "      <td>9b98b8c7a33c4b65b9aebfe6a799e6d9</td>\n",
       "    </tr>\n",
       "    <tr>\n",
       "      <th>4</th>\n",
       "      <td>5</td>\n",
       "      <td>[web, email]</td>\n",
       "      <td>20</td>\n",
       "      <td>240</td>\n",
       "      <td>discount</td>\n",
       "      <td>0b1e1539f2cc45b7b9fa7c272da2e1d7</td>\n",
       "    </tr>\n",
       "    <tr>\n",
       "      <th>5</th>\n",
       "      <td>3</td>\n",
       "      <td>[web, email, mobile, social]</td>\n",
       "      <td>7</td>\n",
       "      <td>168</td>\n",
       "      <td>discount</td>\n",
       "      <td>2298d6c36e964ae4a3e7e9706d1fb8c2</td>\n",
       "    </tr>\n",
       "    <tr>\n",
       "      <th>6</th>\n",
       "      <td>2</td>\n",
       "      <td>[web, email, mobile, social]</td>\n",
       "      <td>10</td>\n",
       "      <td>240</td>\n",
       "      <td>discount</td>\n",
       "      <td>fafdcd668e3743c1bb461111dcafc2a4</td>\n",
       "    </tr>\n",
       "    <tr>\n",
       "      <th>7</th>\n",
       "      <td>0</td>\n",
       "      <td>[email, mobile, social]</td>\n",
       "      <td>0</td>\n",
       "      <td>72</td>\n",
       "      <td>informational</td>\n",
       "      <td>5a8bc65990b245e5a138643cd4eb9837</td>\n",
       "    </tr>\n",
       "    <tr>\n",
       "      <th>8</th>\n",
       "      <td>5</td>\n",
       "      <td>[web, email, mobile, social]</td>\n",
       "      <td>5</td>\n",
       "      <td>120</td>\n",
       "      <td>bogo</td>\n",
       "      <td>f19421c1d4aa40978ebb69ca19b0e20d</td>\n",
       "    </tr>\n",
       "    <tr>\n",
       "      <th>9</th>\n",
       "      <td>2</td>\n",
       "      <td>[web, email, mobile]</td>\n",
       "      <td>10</td>\n",
       "      <td>168</td>\n",
       "      <td>discount</td>\n",
       "      <td>2906b810c7d4411798c6938adc9daaa5</td>\n",
       "    </tr>\n",
       "  </tbody>\n",
       "</table>\n",
       "</div>"
      ],
      "text/plain": [
       "   reward                      channels  difficulty  duration     offer_type  \\\n",
       "0      10       [email, mobile, social]          10       168           bogo   \n",
       "1      10  [web, email, mobile, social]          10       120           bogo   \n",
       "2       0          [web, email, mobile]           0        96  informational   \n",
       "3       5          [web, email, mobile]           5       168           bogo   \n",
       "4       5                  [web, email]          20       240       discount   \n",
       "5       3  [web, email, mobile, social]           7       168       discount   \n",
       "6       2  [web, email, mobile, social]          10       240       discount   \n",
       "7       0       [email, mobile, social]           0        72  informational   \n",
       "8       5  [web, email, mobile, social]           5       120           bogo   \n",
       "9       2          [web, email, mobile]          10       168       discount   \n",
       "\n",
       "                                 id  \n",
       "0  ae264e3637204a6fb9bb56bc8210ddfd  \n",
       "1  4d5c57ea9a6940dd891ad53e9dbe8da0  \n",
       "2  3f207df678b143eea3cee63160fa8bed  \n",
       "3  9b98b8c7a33c4b65b9aebfe6a799e6d9  \n",
       "4  0b1e1539f2cc45b7b9fa7c272da2e1d7  \n",
       "5  2298d6c36e964ae4a3e7e9706d1fb8c2  \n",
       "6  fafdcd668e3743c1bb461111dcafc2a4  \n",
       "7  5a8bc65990b245e5a138643cd4eb9837  \n",
       "8  f19421c1d4aa40978ebb69ca19b0e20d  \n",
       "9  2906b810c7d4411798c6938adc9daaa5  "
      ]
     },
     "execution_count": 341,
     "metadata": {},
     "output_type": "execute_result"
    }
   ],
   "source": [
    "portfolio"
   ]
  },
  {
   "cell_type": "markdown",
   "metadata": {},
   "source": [
    "Lets proceed with the next dataframe - profile  \n",
    "here we need to make gender as separate columns and clean regarding age and income"
   ]
  },
  {
   "cell_type": "code",
   "execution_count": 342,
   "metadata": {},
   "outputs": [
    {
     "data": {
      "text/html": [
       "<div>\n",
       "<style scoped>\n",
       "    .dataframe tbody tr th:only-of-type {\n",
       "        vertical-align: middle;\n",
       "    }\n",
       "\n",
       "    .dataframe tbody tr th {\n",
       "        vertical-align: top;\n",
       "    }\n",
       "\n",
       "    .dataframe thead th {\n",
       "        text-align: right;\n",
       "    }\n",
       "</style>\n",
       "<table border=\"1\" class=\"dataframe\">\n",
       "  <thead>\n",
       "    <tr style=\"text-align: right;\">\n",
       "      <th></th>\n",
       "      <th>gender</th>\n",
       "      <th>age</th>\n",
       "      <th>id</th>\n",
       "      <th>became_member_on</th>\n",
       "      <th>income</th>\n",
       "    </tr>\n",
       "  </thead>\n",
       "  <tbody>\n",
       "    <tr>\n",
       "      <th>0</th>\n",
       "      <td>None</td>\n",
       "      <td>118</td>\n",
       "      <td>68be06ca386d4c31939f3a4f0e3dd783</td>\n",
       "      <td>20170212</td>\n",
       "      <td>NaN</td>\n",
       "    </tr>\n",
       "    <tr>\n",
       "      <th>1</th>\n",
       "      <td>F</td>\n",
       "      <td>55</td>\n",
       "      <td>0610b486422d4921ae7d2bf64640c50b</td>\n",
       "      <td>20170715</td>\n",
       "      <td>112000.0</td>\n",
       "    </tr>\n",
       "    <tr>\n",
       "      <th>2</th>\n",
       "      <td>None</td>\n",
       "      <td>118</td>\n",
       "      <td>38fe809add3b4fcf9315a9694bb96ff5</td>\n",
       "      <td>20180712</td>\n",
       "      <td>NaN</td>\n",
       "    </tr>\n",
       "    <tr>\n",
       "      <th>3</th>\n",
       "      <td>F</td>\n",
       "      <td>75</td>\n",
       "      <td>78afa995795e4d85b5d9ceeca43f5fef</td>\n",
       "      <td>20170509</td>\n",
       "      <td>100000.0</td>\n",
       "    </tr>\n",
       "    <tr>\n",
       "      <th>4</th>\n",
       "      <td>None</td>\n",
       "      <td>118</td>\n",
       "      <td>a03223e636434f42ac4c3df47e8bac43</td>\n",
       "      <td>20170804</td>\n",
       "      <td>NaN</td>\n",
       "    </tr>\n",
       "  </tbody>\n",
       "</table>\n",
       "</div>"
      ],
      "text/plain": [
       "  gender  age                                id  became_member_on    income\n",
       "0   None  118  68be06ca386d4c31939f3a4f0e3dd783          20170212       NaN\n",
       "1      F   55  0610b486422d4921ae7d2bf64640c50b          20170715  112000.0\n",
       "2   None  118  38fe809add3b4fcf9315a9694bb96ff5          20180712       NaN\n",
       "3      F   75  78afa995795e4d85b5d9ceeca43f5fef          20170509  100000.0\n",
       "4   None  118  a03223e636434f42ac4c3df47e8bac43          20170804       NaN"
      ]
     },
     "execution_count": 342,
     "metadata": {},
     "output_type": "execute_result"
    }
   ],
   "source": [
    "profile.head(5)"
   ]
  },
  {
   "cell_type": "code",
   "execution_count": 343,
   "metadata": {},
   "outputs": [],
   "source": [
    "profile.id = profile.id.apply(str) #convert to non unicode strings"
   ]
  },
  {
   "cell_type": "code",
   "execution_count": 344,
   "metadata": {},
   "outputs": [
    {
     "data": {
      "text/plain": [
       "2175"
      ]
     },
     "execution_count": 344,
     "metadata": {},
     "output_type": "execute_result"
    }
   ],
   "source": [
    "len(profile[profile.age==118])"
   ]
  },
  {
   "cell_type": "code",
   "execution_count": 345,
   "metadata": {},
   "outputs": [
    {
     "name": "stdout",
     "output_type": "stream",
     "text": [
      "<class 'pandas.core.frame.DataFrame'>\n",
      "RangeIndex: 17000 entries, 0 to 16999\n",
      "Data columns (total 5 columns):\n",
      " #   Column            Non-Null Count  Dtype  \n",
      "---  ------            --------------  -----  \n",
      " 0   gender            14825 non-null  object \n",
      " 1   age               17000 non-null  int64  \n",
      " 2   id                17000 non-null  object \n",
      " 3   became_member_on  17000 non-null  int64  \n",
      " 4   income            14825 non-null  float64\n",
      "dtypes: float64(1), int64(2), object(2)\n",
      "memory usage: 664.2+ KB\n"
     ]
    }
   ],
   "source": [
    "profile.info()"
   ]
  },
  {
   "cell_type": "markdown",
   "metadata": {},
   "source": [
    "gender and income seem to have a lot of blank values, this might be worth looking at regarding features. maybe people who do not like to give gender or income have certain tendencies. obviously age==118 correlates with gender=None and Income None"
   ]
  },
  {
   "cell_type": "markdown",
   "metadata": {},
   "source": [
    "lets split became_member_on into year,month,day columns"
   ]
  },
  {
   "cell_type": "code",
   "execution_count": 346,
   "metadata": {},
   "outputs": [],
   "source": [
    "def int_date_to_YMD(integer_date_YMD):\n",
    "    date_string = str(integer_date_YMD)\n",
    "    return date_string[:4], date_string[4:6], date_string[6:]"
   ]
  },
  {
   "cell_type": "code",
   "execution_count": 347,
   "metadata": {},
   "outputs": [
    {
     "data": {
      "text/html": [
       "<div>\n",
       "<style scoped>\n",
       "    .dataframe tbody tr th:only-of-type {\n",
       "        vertical-align: middle;\n",
       "    }\n",
       "\n",
       "    .dataframe tbody tr th {\n",
       "        vertical-align: top;\n",
       "    }\n",
       "\n",
       "    .dataframe thead th {\n",
       "        text-align: right;\n",
       "    }\n",
       "</style>\n",
       "<table border=\"1\" class=\"dataframe\">\n",
       "  <thead>\n",
       "    <tr style=\"text-align: right;\">\n",
       "      <th></th>\n",
       "      <th>age</th>\n",
       "      <th>became_member_on</th>\n",
       "      <th>income</th>\n",
       "    </tr>\n",
       "  </thead>\n",
       "  <tbody>\n",
       "    <tr>\n",
       "      <th>count</th>\n",
       "      <td>17000.000000</td>\n",
       "      <td>1.700000e+04</td>\n",
       "      <td>14825.000000</td>\n",
       "    </tr>\n",
       "    <tr>\n",
       "      <th>mean</th>\n",
       "      <td>62.531412</td>\n",
       "      <td>2.016703e+07</td>\n",
       "      <td>65404.991568</td>\n",
       "    </tr>\n",
       "    <tr>\n",
       "      <th>std</th>\n",
       "      <td>26.738580</td>\n",
       "      <td>1.167750e+04</td>\n",
       "      <td>21598.299410</td>\n",
       "    </tr>\n",
       "    <tr>\n",
       "      <th>min</th>\n",
       "      <td>18.000000</td>\n",
       "      <td>2.013073e+07</td>\n",
       "      <td>30000.000000</td>\n",
       "    </tr>\n",
       "    <tr>\n",
       "      <th>25%</th>\n",
       "      <td>45.000000</td>\n",
       "      <td>2.016053e+07</td>\n",
       "      <td>49000.000000</td>\n",
       "    </tr>\n",
       "    <tr>\n",
       "      <th>50%</th>\n",
       "      <td>58.000000</td>\n",
       "      <td>2.017080e+07</td>\n",
       "      <td>64000.000000</td>\n",
       "    </tr>\n",
       "    <tr>\n",
       "      <th>75%</th>\n",
       "      <td>73.000000</td>\n",
       "      <td>2.017123e+07</td>\n",
       "      <td>80000.000000</td>\n",
       "    </tr>\n",
       "    <tr>\n",
       "      <th>max</th>\n",
       "      <td>118.000000</td>\n",
       "      <td>2.018073e+07</td>\n",
       "      <td>120000.000000</td>\n",
       "    </tr>\n",
       "  </tbody>\n",
       "</table>\n",
       "</div>"
      ],
      "text/plain": [
       "                age  became_member_on         income\n",
       "count  17000.000000      1.700000e+04   14825.000000\n",
       "mean      62.531412      2.016703e+07   65404.991568\n",
       "std       26.738580      1.167750e+04   21598.299410\n",
       "min       18.000000      2.013073e+07   30000.000000\n",
       "25%       45.000000      2.016053e+07   49000.000000\n",
       "50%       58.000000      2.017080e+07   64000.000000\n",
       "75%       73.000000      2.017123e+07   80000.000000\n",
       "max      118.000000      2.018073e+07  120000.000000"
      ]
     },
     "execution_count": 347,
     "metadata": {},
     "output_type": "execute_result"
    }
   ],
   "source": [
    "profile.describe()"
   ]
  },
  {
   "cell_type": "markdown",
   "metadata": {},
   "source": [
    "maximum and average seem to tend a bit high, something worth looking at in a distribution"
   ]
  },
  {
   "cell_type": "code",
   "execution_count": 348,
   "metadata": {},
   "outputs": [
    {
     "data": {
      "text/plain": [
       "(array([1308., 1438., 2054., 3383., 3257., 2031.,  966.,  361.,   27.,\n",
       "        2175.]),\n",
       " array([ 18.,  28.,  38.,  48.,  58.,  68.,  78.,  88.,  98., 108., 118.]),\n",
       " <a list of 10 Patch objects>)"
      ]
     },
     "execution_count": 348,
     "metadata": {},
     "output_type": "execute_result"
    },
    {
     "data": {
      "image/png": "[encoded data removed]",
      "text/plain": [
       "<Figure size 432x288 with 1 Axes>"
      ]
     },
     "metadata": {
      "needs_background": "light"
     },
     "output_type": "display_data"
    }
   ],
   "source": [
    "plt.hist(profile.age)"
   ]
  },
  {
   "cell_type": "markdown",
   "metadata": {},
   "source": []
  },
  {
   "cell_type": "markdown",
   "metadata": {},
   "source": [
    "the average of age looks quite high for starbucks customers and the max age is probably outliers which need to be taken care of in either removing or guessing whether they substitute some other value.\n",
    "first approach lets remove 118"
   ]
  },
  {
   "cell_type": "code",
   "execution_count": 349,
   "metadata": {},
   "outputs": [],
   "source": [
    "profile = profile[profile.age!=118]"
   ]
  },
  {
   "cell_type": "markdown",
   "metadata": {},
   "source": [
    "lets convert the male/female/other entries into columns"
   ]
  },
  {
   "cell_type": "code",
   "execution_count": null,
   "metadata": {},
   "outputs": [],
   "source": []
  },
  {
   "cell_type": "code",
   "execution_count": 350,
   "metadata": {},
   "outputs": [
    {
     "name": "stdout",
     "output_type": "stream",
     "text": [
      "<class 'pandas.core.frame.DataFrame'>\n",
      "Int64Index: 14825 entries, 1 to 16999\n",
      "Data columns (total 5 columns):\n",
      " #   Column            Non-Null Count  Dtype  \n",
      "---  ------            --------------  -----  \n",
      " 0   gender            14825 non-null  object \n",
      " 1   age               14825 non-null  int64  \n",
      " 2   id                14825 non-null  object \n",
      " 3   became_member_on  14825 non-null  int64  \n",
      " 4   income            14825 non-null  float64\n",
      "dtypes: float64(1), int64(2), object(2)\n",
      "memory usage: 694.9+ KB\n"
     ]
    }
   ],
   "source": [
    "profile.info()"
   ]
  },
  {
   "cell_type": "markdown",
   "metadata": {},
   "source": [
    "checking for double ids in dataset - obviously none"
   ]
  },
  {
   "cell_type": "code",
   "execution_count": 351,
   "metadata": {},
   "outputs": [
    {
     "data": {
      "text/html": [
       "<div>\n",
       "<style scoped>\n",
       "    .dataframe tbody tr th:only-of-type {\n",
       "        vertical-align: middle;\n",
       "    }\n",
       "\n",
       "    .dataframe tbody tr th {\n",
       "        vertical-align: top;\n",
       "    }\n",
       "\n",
       "    .dataframe thead th {\n",
       "        text-align: right;\n",
       "    }\n",
       "</style>\n",
       "<table border=\"1\" class=\"dataframe\">\n",
       "  <thead>\n",
       "    <tr style=\"text-align: right;\">\n",
       "      <th></th>\n",
       "      <th>gender</th>\n",
       "      <th>age</th>\n",
       "      <th>id</th>\n",
       "      <th>became_member_on</th>\n",
       "      <th>income</th>\n",
       "    </tr>\n",
       "  </thead>\n",
       "  <tbody>\n",
       "    <tr>\n",
       "      <th>1</th>\n",
       "      <td>F</td>\n",
       "      <td>55</td>\n",
       "      <td>0610b486422d4921ae7d2bf64640c50b</td>\n",
       "      <td>20170715</td>\n",
       "      <td>112000.0</td>\n",
       "    </tr>\n",
       "    <tr>\n",
       "      <th>3</th>\n",
       "      <td>F</td>\n",
       "      <td>75</td>\n",
       "      <td>78afa995795e4d85b5d9ceeca43f5fef</td>\n",
       "      <td>20170509</td>\n",
       "      <td>100000.0</td>\n",
       "    </tr>\n",
       "    <tr>\n",
       "      <th>5</th>\n",
       "      <td>M</td>\n",
       "      <td>68</td>\n",
       "      <td>e2127556f4f64592b11af22de27a7932</td>\n",
       "      <td>20180426</td>\n",
       "      <td>70000.0</td>\n",
       "    </tr>\n",
       "    <tr>\n",
       "      <th>8</th>\n",
       "      <td>M</td>\n",
       "      <td>65</td>\n",
       "      <td>389bc3fa690240e798340f5a15918d5c</td>\n",
       "      <td>20180209</td>\n",
       "      <td>53000.0</td>\n",
       "    </tr>\n",
       "    <tr>\n",
       "      <th>12</th>\n",
       "      <td>M</td>\n",
       "      <td>58</td>\n",
       "      <td>2eeac8d8feae4a8cad5a6af0499a211d</td>\n",
       "      <td>20171111</td>\n",
       "      <td>51000.0</td>\n",
       "    </tr>\n",
       "    <tr>\n",
       "      <th>...</th>\n",
       "      <td>...</td>\n",
       "      <td>...</td>\n",
       "      <td>...</td>\n",
       "      <td>...</td>\n",
       "      <td>...</td>\n",
       "    </tr>\n",
       "    <tr>\n",
       "      <th>16995</th>\n",
       "      <td>F</td>\n",
       "      <td>45</td>\n",
       "      <td>6d5f3a774f3d4714ab0c092238f3a1d7</td>\n",
       "      <td>20180604</td>\n",
       "      <td>54000.0</td>\n",
       "    </tr>\n",
       "    <tr>\n",
       "      <th>16996</th>\n",
       "      <td>M</td>\n",
       "      <td>61</td>\n",
       "      <td>2cb4f97358b841b9a9773a7aa05a9d77</td>\n",
       "      <td>20180713</td>\n",
       "      <td>72000.0</td>\n",
       "    </tr>\n",
       "    <tr>\n",
       "      <th>16997</th>\n",
       "      <td>M</td>\n",
       "      <td>49</td>\n",
       "      <td>01d26f638c274aa0b965d24cefe3183f</td>\n",
       "      <td>20170126</td>\n",
       "      <td>73000.0</td>\n",
       "    </tr>\n",
       "    <tr>\n",
       "      <th>16998</th>\n",
       "      <td>F</td>\n",
       "      <td>83</td>\n",
       "      <td>9dc1421481194dcd9400aec7c9ae6366</td>\n",
       "      <td>20160307</td>\n",
       "      <td>50000.0</td>\n",
       "    </tr>\n",
       "    <tr>\n",
       "      <th>16999</th>\n",
       "      <td>F</td>\n",
       "      <td>62</td>\n",
       "      <td>e4052622e5ba45a8b96b59aba68cf068</td>\n",
       "      <td>20170722</td>\n",
       "      <td>82000.0</td>\n",
       "    </tr>\n",
       "  </tbody>\n",
       "</table>\n",
       "<p>14825 rows × 5 columns</p>\n",
       "</div>"
      ],
      "text/plain": [
       "      gender  age                                id  became_member_on  \\\n",
       "1          F   55  0610b486422d4921ae7d2bf64640c50b          20170715   \n",
       "3          F   75  78afa995795e4d85b5d9ceeca43f5fef          20170509   \n",
       "5          M   68  e2127556f4f64592b11af22de27a7932          20180426   \n",
       "8          M   65  389bc3fa690240e798340f5a15918d5c          20180209   \n",
       "12         M   58  2eeac8d8feae4a8cad5a6af0499a211d          20171111   \n",
       "...      ...  ...                               ...               ...   \n",
       "16995      F   45  6d5f3a774f3d4714ab0c092238f3a1d7          20180604   \n",
       "16996      M   61  2cb4f97358b841b9a9773a7aa05a9d77          20180713   \n",
       "16997      M   49  01d26f638c274aa0b965d24cefe3183f          20170126   \n",
       "16998      F   83  9dc1421481194dcd9400aec7c9ae6366          20160307   \n",
       "16999      F   62  e4052622e5ba45a8b96b59aba68cf068          20170722   \n",
       "\n",
       "         income  \n",
       "1      112000.0  \n",
       "3      100000.0  \n",
       "5       70000.0  \n",
       "8       53000.0  \n",
       "12      51000.0  \n",
       "...         ...  \n",
       "16995   54000.0  \n",
       "16996   72000.0  \n",
       "16997   73000.0  \n",
       "16998   50000.0  \n",
       "16999   82000.0  \n",
       "\n",
       "[14825 rows x 5 columns]"
      ]
     },
     "execution_count": 351,
     "metadata": {},
     "output_type": "execute_result"
    }
   ],
   "source": [
    "profile"
   ]
  },
  {
   "cell_type": "code",
   "execution_count": 352,
   "metadata": {},
   "outputs": [
    {
     "data": {
      "text/plain": [
       "14825"
      ]
     },
     "execution_count": 352,
     "metadata": {},
     "output_type": "execute_result"
    }
   ],
   "source": [
    "len(profile.id.unique())"
   ]
  },
  {
   "cell_type": "code",
   "execution_count": 353,
   "metadata": {},
   "outputs": [
    {
     "data": {
      "text/plain": [
       "(array([1731., 1707., 2234., 2210., 2345., 1435., 1215.,  990.,  498.,\n",
       "         460.]),\n",
       " array([ 30000.,  39000.,  48000.,  57000.,  66000.,  75000.,  84000.,\n",
       "         93000., 102000., 111000., 120000.]),\n",
       " <a list of 10 Patch objects>)"
      ]
     },
     "execution_count": 353,
     "metadata": {},
     "output_type": "execute_result"
    },
    {
     "data": {
      "image/png": "[encoded data removed]",
      "text/plain": [
       "<Figure size 432x288 with 1 Axes>"
      ]
     },
     "metadata": {
      "needs_background": "light"
     },
     "output_type": "display_data"
    }
   ],
   "source": [
    "plt.hist(profile.dropna()['income'])"
   ]
  },
  {
   "cell_type": "markdown",
   "metadata": {},
   "source": [
    "now a look onto transcript"
   ]
  },
  {
   "cell_type": "code",
   "execution_count": 354,
   "metadata": {},
   "outputs": [
    {
     "name": "stdout",
     "output_type": "stream",
     "text": [
      "<class 'pandas.core.frame.DataFrame'>\n",
      "RangeIndex: 306534 entries, 0 to 306533\n",
      "Data columns (total 4 columns):\n",
      " #   Column  Non-Null Count   Dtype \n",
      "---  ------  --------------   ----- \n",
      " 0   person  306534 non-null  object\n",
      " 1   event   306534 non-null  object\n",
      " 2   value   306534 non-null  object\n",
      " 3   time    306534 non-null  int64 \n",
      "dtypes: int64(1), object(3)\n",
      "memory usage: 9.4+ MB\n"
     ]
    }
   ],
   "source": [
    "transcript.info()"
   ]
  },
  {
   "cell_type": "code",
   "execution_count": 355,
   "metadata": {},
   "outputs": [
    {
     "data": {
      "text/html": [
       "<div>\n",
       "<style scoped>\n",
       "    .dataframe tbody tr th:only-of-type {\n",
       "        vertical-align: middle;\n",
       "    }\n",
       "\n",
       "    .dataframe tbody tr th {\n",
       "        vertical-align: top;\n",
       "    }\n",
       "\n",
       "    .dataframe thead th {\n",
       "        text-align: right;\n",
       "    }\n",
       "</style>\n",
       "<table border=\"1\" class=\"dataframe\">\n",
       "  <thead>\n",
       "    <tr style=\"text-align: right;\">\n",
       "      <th></th>\n",
       "      <th>person</th>\n",
       "      <th>event</th>\n",
       "      <th>value</th>\n",
       "      <th>time</th>\n",
       "    </tr>\n",
       "  </thead>\n",
       "  <tbody>\n",
       "    <tr>\n",
       "      <th>0</th>\n",
       "      <td>78afa995795e4d85b5d9ceeca43f5fef</td>\n",
       "      <td>offer received</td>\n",
       "      <td>{'offer id': '9b98b8c7a33c4b65b9aebfe6a799e6d9'}</td>\n",
       "      <td>0</td>\n",
       "    </tr>\n",
       "    <tr>\n",
       "      <th>1</th>\n",
       "      <td>a03223e636434f42ac4c3df47e8bac43</td>\n",
       "      <td>offer received</td>\n",
       "      <td>{'offer id': '0b1e1539f2cc45b7b9fa7c272da2e1d7'}</td>\n",
       "      <td>0</td>\n",
       "    </tr>\n",
       "    <tr>\n",
       "      <th>2</th>\n",
       "      <td>e2127556f4f64592b11af22de27a7932</td>\n",
       "      <td>offer received</td>\n",
       "      <td>{'offer id': '2906b810c7d4411798c6938adc9daaa5'}</td>\n",
       "      <td>0</td>\n",
       "    </tr>\n",
       "    <tr>\n",
       "      <th>3</th>\n",
       "      <td>8ec6ce2a7e7949b1bf142def7d0e0586</td>\n",
       "      <td>offer received</td>\n",
       "      <td>{'offer id': 'fafdcd668e3743c1bb461111dcafc2a4'}</td>\n",
       "      <td>0</td>\n",
       "    </tr>\n",
       "    <tr>\n",
       "      <th>4</th>\n",
       "      <td>68617ca6246f4fbc85e91a2a49552598</td>\n",
       "      <td>offer received</td>\n",
       "      <td>{'offer id': '4d5c57ea9a6940dd891ad53e9dbe8da0'}</td>\n",
       "      <td>0</td>\n",
       "    </tr>\n",
       "  </tbody>\n",
       "</table>\n",
       "</div>"
      ],
      "text/plain": [
       "                             person           event  \\\n",
       "0  78afa995795e4d85b5d9ceeca43f5fef  offer received   \n",
       "1  a03223e636434f42ac4c3df47e8bac43  offer received   \n",
       "2  e2127556f4f64592b11af22de27a7932  offer received   \n",
       "3  8ec6ce2a7e7949b1bf142def7d0e0586  offer received   \n",
       "4  68617ca6246f4fbc85e91a2a49552598  offer received   \n",
       "\n",
       "                                              value  time  \n",
       "0  {'offer id': '9b98b8c7a33c4b65b9aebfe6a799e6d9'}     0  \n",
       "1  {'offer id': '0b1e1539f2cc45b7b9fa7c272da2e1d7'}     0  \n",
       "2  {'offer id': '2906b810c7d4411798c6938adc9daaa5'}     0  \n",
       "3  {'offer id': 'fafdcd668e3743c1bb461111dcafc2a4'}     0  \n",
       "4  {'offer id': '4d5c57ea9a6940dd891ad53e9dbe8da0'}     0  "
      ]
     },
     "execution_count": 355,
     "metadata": {},
     "output_type": "execute_result"
    }
   ],
   "source": [
    "transcript.head()"
   ]
  },
  {
   "cell_type": "code",
   "execution_count": 356,
   "metadata": {},
   "outputs": [
    {
     "data": {
      "text/plain": [
       "person                     94de646f7b6041228ca7dec82adb97d2\n",
       "event                                       offer completed\n",
       "value     {'offer_id': 'f19421c1d4aa40978ebb69ca19b0e20d...\n",
       "time                                                     30\n",
       "Name: 24532, dtype: object"
      ]
     },
     "execution_count": 356,
     "metadata": {},
     "output_type": "execute_result"
    }
   ],
   "source": [
    "transcript.iloc[24532]"
   ]
  },
  {
   "cell_type": "code",
   "execution_count": 357,
   "metadata": {},
   "outputs": [
    {
     "data": {
      "text/plain": [
       "['amount']                138953\n",
       "['offer id']              134002\n",
       "['offer_id', 'reward']     33579\n",
       "Name: value, dtype: int64"
      ]
     },
     "execution_count": 357,
     "metadata": {},
     "output_type": "execute_result"
    }
   ],
   "source": [
    "possible_keys = transcript['value'].apply(lambda x: str(list(x.keys())))\n",
    "possible_keys.value_counts()"
   ]
  },
  {
   "cell_type": "code",
   "execution_count": 358,
   "metadata": {},
   "outputs": [
    {
     "data": {
      "text/plain": [
       "['offer received', 'offer viewed', 'transaction', 'offer completed']"
      ]
     },
     "execution_count": 358,
     "metadata": {},
     "output_type": "execute_result"
    }
   ],
   "source": [
    "[str(item) for item in list(transcript.event.unique())] #look at the unique non unicode strings"
   ]
  },
  {
   "cell_type": "markdown",
   "metadata": {},
   "source": [
    "create separate columns for offer id, amount and reward"
   ]
  },
  {
   "cell_type": "code",
   "execution_count": 359,
   "metadata": {},
   "outputs": [],
   "source": [
    "transcript['offer_id'] = transcript.value.apply(lambda x: list(x.values())[0] if 'offer' in str(list(x.keys())[0]) else None)\n",
    "transcript['amount'] = transcript.value.apply(lambda x: list(x.values())[0] if (list(x.keys())[0])==u'amount' else None)\n",
    "transcript['reward'] = transcript.value.apply(lambda x: list(x.values())[1] if len(x.keys())==2 else None)\n",
    "transcript.drop('value',axis=1,inplace=True)"
   ]
  },
  {
   "cell_type": "code",
   "execution_count": 360,
   "metadata": {},
   "outputs": [],
   "source": [
    "top_profiles = transcript.groupby('person').agg({'event':'count'}).sort_values('event',ascending=False)"
   ]
  },
  {
   "cell_type": "code",
   "execution_count": 361,
   "metadata": {},
   "outputs": [],
   "source": [
    "top_persons = list(top_profiles.index)[:120]"
   ]
  },
  {
   "cell_type": "code",
   "execution_count": 362,
   "metadata": {},
   "outputs": [],
   "source": [
    "# transcript[transcript['person']=='79d9d4f86aca4bed9290350fb43817c2']"
   ]
  },
  {
   "cell_type": "code",
   "execution_count": 363,
   "metadata": {},
   "outputs": [],
   "source": [
    "transaction = transcript[transcript.event == 'transaction'].copy()\n",
    "views = transcript[transcript.event == 'offer viewed'].copy()\n",
    "# trans_fil = transaction.copy()\n",
    "# offer_list = [x[:3] for x in list(portfolio.id)]\n",
    "offer_list = list(portfolio.id)\n",
    "# # transaction[offer_list] = None\n",
    "# #transaction = transaction[transaction['person']=='79d9d4f86aca4bed9290350fb43817c2']\n",
    "# transaction.head()"
   ]
  },
  {
   "cell_type": "code",
   "execution_count": 364,
   "metadata": {},
   "outputs": [],
   "source": [
    "# for offer in offer_list:\n",
    "#     transaction[offer] = None"
   ]
  },
  {
   "cell_type": "code",
   "execution_count": 365,
   "metadata": {},
   "outputs": [
    {
     "name": "stdout",
     "output_type": "stream",
     "text": [
      "3047   583\n"
     ]
    }
   ],
   "source": [
    "testing_on = True\n",
    "if testing_on:\n",
    "    top_list_transactions = []\n",
    "    top_list_views = []\n",
    "    for person in top_persons:\n",
    "        top_list_transactions.append(transaction[transaction.person==person])\n",
    "        top_list_views.append(views[views.person==person])\n",
    "    transaction_part = pd.concat(top_list_transactions,axis=0)\n",
    "    views_part = pd.concat(top_list_views,axis=0)\n",
    "   # transaction_part = transaction[(transaction.person==top_persons[0])|(transaction.person==top_persons[4])].copy()\n",
    "   #views_part  = views[(views.person==top_persons[0])|(views.person==top_persons[4])].copy()\n",
    "else:\n",
    "    transaction_part = transaction.copy()\n",
    "    views_part = views.copy()\n",
    "print(len(transaction_part), ' ',len(views_part))"
   ]
  },
  {
   "cell_type": "code",
   "execution_count": 366,
   "metadata": {},
   "outputs": [
    {
     "data": {
      "text/plain": [
       "{'ae264e3637204a6fb9bb56bc8210ddfd': 168,\n",
       " '4d5c57ea9a6940dd891ad53e9dbe8da0': 120,\n",
       " '3f207df678b143eea3cee63160fa8bed': 96,\n",
       " '9b98b8c7a33c4b65b9aebfe6a799e6d9': 168,\n",
       " '0b1e1539f2cc45b7b9fa7c272da2e1d7': 240,\n",
       " '2298d6c36e964ae4a3e7e9706d1fb8c2': 168,\n",
       " 'fafdcd668e3743c1bb461111dcafc2a4': 240,\n",
       " '5a8bc65990b245e5a138643cd4eb9837': 72,\n",
       " 'f19421c1d4aa40978ebb69ca19b0e20d': 120,\n",
       " '2906b810c7d4411798c6938adc9daaa5': 168,\n",
       " None: None}"
      ]
     },
     "execution_count": 366,
     "metadata": {},
     "output_type": "execute_result"
    }
   ],
   "source": [
    "def lookup_dictionary(look_up_df,search, result):\n",
    "    temp_df = look_up_df.copy()\n",
    "    dic= dict(zip(temp_df[search],temp_df[result]))\n",
    "    dic[None] = None\n",
    "    return dic\n",
    "\n",
    "look_up_duration = lookup_dictionary(portfolio,'id','duration' )\n",
    "look_up_duration"
   ]
  },
  {
   "cell_type": "code",
   "execution_count": 367,
   "metadata": {},
   "outputs": [
    {
     "name": "stdout",
     "output_type": "stream",
     "text": [
      "CPU times: user 43.4 s, sys: 3.63 ms, total: 43.4 s\n",
      "Wall time: 43.5 s\n"
     ]
    }
   ],
   "source": [
    "%%time\n",
    "offer_fill_list = []\n",
    "for offer in offer_list[:]:\n",
    "    target = []\n",
    "    offer_duration = look_up_duration[offer]\n",
    "    for i,row in transaction_part[:].iterrows():\n",
    "        all_transaction_times = list(views_part[(views_part['person']==row['person']) & (views_part['offer_id']==offer)]['time'])\n",
    "        current_transaction_time = row['time']\n",
    "        nearest_smaller_transaction_time = max([(x if x <= current_transaction_time else np.nan) for x in all_transaction_times]) if len(all_transaction_times) >0 else np.nan\n",
    "        offer_still_valid = int(current_transaction_time-nearest_smaller_transaction_time <= offer_duration)\n",
    "        target.append(offer_still_valid)\n",
    "    offer_colum = pd.DataFrame(target)\n",
    "    offer_fill_list.append(offer_colum)\n",
    "complete_df = pd.concat(offer_fill_list,axis=1)\n",
    "complete_df.columns = offer_list\n",
    "\n",
    "        #transaction[offer] = transaction.apply(lambda x:list((views[(views['person']==x['person'])&(views['offer_id']==offer)])['time'])) "
   ]
  },
  {
   "cell_type": "code",
   "execution_count": 368,
   "metadata": {},
   "outputs": [],
   "source": [
    "offer_groups={'bogo':[],'discount':[],'informational':[]}\n",
    "for offer_id in portfolio.id:\n",
    "    offer_type = portfolio[portfolio['id']==offer_id]['offer_type'].squeeze()\n",
    "    offer_groups[offer_type].append(offer_id)"
   ]
  },
  {
   "cell_type": "code",
   "execution_count": 369,
   "metadata": {},
   "outputs": [
    {
     "data": {
      "text/plain": [
       "{'bogo': ['ae264e3637204a6fb9bb56bc8210ddfd',\n",
       "  '4d5c57ea9a6940dd891ad53e9dbe8da0',\n",
       "  '9b98b8c7a33c4b65b9aebfe6a799e6d9',\n",
       "  'f19421c1d4aa40978ebb69ca19b0e20d'],\n",
       " 'discount': ['0b1e1539f2cc45b7b9fa7c272da2e1d7',\n",
       "  '2298d6c36e964ae4a3e7e9706d1fb8c2',\n",
       "  'fafdcd668e3743c1bb461111dcafc2a4',\n",
       "  '2906b810c7d4411798c6938adc9daaa5'],\n",
       " 'informational': ['3f207df678b143eea3cee63160fa8bed',\n",
       "  '5a8bc65990b245e5a138643cd4eb9837']}"
      ]
     },
     "execution_count": 369,
     "metadata": {},
     "output_type": "execute_result"
    }
   ],
   "source": [
    "offer_groups"
   ]
  },
  {
   "cell_type": "code",
   "execution_count": 370,
   "metadata": {},
   "outputs": [
    {
     "name": "stdout",
     "output_type": "stream",
     "text": [
      "bogo\n",
      "['ae264e3637204a6fb9bb56bc8210ddfd', '4d5c57ea9a6940dd891ad53e9dbe8da0', '9b98b8c7a33c4b65b9aebfe6a799e6d9', 'f19421c1d4aa40978ebb69ca19b0e20d']\n",
      "discount\n",
      "['0b1e1539f2cc45b7b9fa7c272da2e1d7', '2298d6c36e964ae4a3e7e9706d1fb8c2', 'fafdcd668e3743c1bb461111dcafc2a4', '2906b810c7d4411798c6938adc9daaa5']\n",
      "informational\n",
      "['3f207df678b143eea3cee63160fa8bed', '5a8bc65990b245e5a138643cd4eb9837']\n"
     ]
    }
   ],
   "source": [
    "for key in offer_groups.keys():\n",
    "    print(key)\n",
    "    print(offer_groups[key])"
   ]
  },
  {
   "cell_type": "code",
   "execution_count": 371,
   "metadata": {},
   "outputs": [
    {
     "data": {
      "text/html": [
       "<div>\n",
       "<style scoped>\n",
       "    .dataframe tbody tr th:only-of-type {\n",
       "        vertical-align: middle;\n",
       "    }\n",
       "\n",
       "    .dataframe tbody tr th {\n",
       "        vertical-align: top;\n",
       "    }\n",
       "\n",
       "    .dataframe thead th {\n",
       "        text-align: right;\n",
       "    }\n",
       "</style>\n",
       "<table border=\"1\" class=\"dataframe\">\n",
       "  <thead>\n",
       "    <tr style=\"text-align: right;\">\n",
       "      <th></th>\n",
       "      <th>ae264e3637204a6fb9bb56bc8210ddfd</th>\n",
       "      <th>4d5c57ea9a6940dd891ad53e9dbe8da0</th>\n",
       "      <th>3f207df678b143eea3cee63160fa8bed</th>\n",
       "      <th>9b98b8c7a33c4b65b9aebfe6a799e6d9</th>\n",
       "      <th>0b1e1539f2cc45b7b9fa7c272da2e1d7</th>\n",
       "      <th>2298d6c36e964ae4a3e7e9706d1fb8c2</th>\n",
       "      <th>fafdcd668e3743c1bb461111dcafc2a4</th>\n",
       "      <th>5a8bc65990b245e5a138643cd4eb9837</th>\n",
       "      <th>f19421c1d4aa40978ebb69ca19b0e20d</th>\n",
       "      <th>2906b810c7d4411798c6938adc9daaa5</th>\n",
       "    </tr>\n",
       "  </thead>\n",
       "  <tbody>\n",
       "    <tr>\n",
       "      <th>0</th>\n",
       "      <td>0</td>\n",
       "      <td>0</td>\n",
       "      <td>0</td>\n",
       "      <td>0</td>\n",
       "      <td>0</td>\n",
       "      <td>0</td>\n",
       "      <td>0</td>\n",
       "      <td>0</td>\n",
       "      <td>1</td>\n",
       "      <td>0</td>\n",
       "    </tr>\n",
       "    <tr>\n",
       "      <th>1</th>\n",
       "      <td>0</td>\n",
       "      <td>0</td>\n",
       "      <td>0</td>\n",
       "      <td>0</td>\n",
       "      <td>0</td>\n",
       "      <td>0</td>\n",
       "      <td>0</td>\n",
       "      <td>0</td>\n",
       "      <td>1</td>\n",
       "      <td>0</td>\n",
       "    </tr>\n",
       "    <tr>\n",
       "      <th>2</th>\n",
       "      <td>0</td>\n",
       "      <td>0</td>\n",
       "      <td>0</td>\n",
       "      <td>1</td>\n",
       "      <td>0</td>\n",
       "      <td>0</td>\n",
       "      <td>0</td>\n",
       "      <td>0</td>\n",
       "      <td>0</td>\n",
       "      <td>0</td>\n",
       "    </tr>\n",
       "    <tr>\n",
       "      <th>3</th>\n",
       "      <td>0</td>\n",
       "      <td>0</td>\n",
       "      <td>0</td>\n",
       "      <td>1</td>\n",
       "      <td>0</td>\n",
       "      <td>0</td>\n",
       "      <td>0</td>\n",
       "      <td>0</td>\n",
       "      <td>0</td>\n",
       "      <td>0</td>\n",
       "    </tr>\n",
       "    <tr>\n",
       "      <th>4</th>\n",
       "      <td>0</td>\n",
       "      <td>0</td>\n",
       "      <td>0</td>\n",
       "      <td>1</td>\n",
       "      <td>0</td>\n",
       "      <td>0</td>\n",
       "      <td>0</td>\n",
       "      <td>0</td>\n",
       "      <td>0</td>\n",
       "      <td>0</td>\n",
       "    </tr>\n",
       "    <tr>\n",
       "      <th>...</th>\n",
       "      <td>...</td>\n",
       "      <td>...</td>\n",
       "      <td>...</td>\n",
       "      <td>...</td>\n",
       "      <td>...</td>\n",
       "      <td>...</td>\n",
       "      <td>...</td>\n",
       "      <td>...</td>\n",
       "      <td>...</td>\n",
       "      <td>...</td>\n",
       "    </tr>\n",
       "    <tr>\n",
       "      <th>3042</th>\n",
       "      <td>1</td>\n",
       "      <td>0</td>\n",
       "      <td>0</td>\n",
       "      <td>0</td>\n",
       "      <td>0</td>\n",
       "      <td>0</td>\n",
       "      <td>0</td>\n",
       "      <td>0</td>\n",
       "      <td>0</td>\n",
       "      <td>0</td>\n",
       "    </tr>\n",
       "    <tr>\n",
       "      <th>3043</th>\n",
       "      <td>1</td>\n",
       "      <td>0</td>\n",
       "      <td>0</td>\n",
       "      <td>0</td>\n",
       "      <td>0</td>\n",
       "      <td>0</td>\n",
       "      <td>0</td>\n",
       "      <td>0</td>\n",
       "      <td>0</td>\n",
       "      <td>0</td>\n",
       "    </tr>\n",
       "    <tr>\n",
       "      <th>3044</th>\n",
       "      <td>1</td>\n",
       "      <td>0</td>\n",
       "      <td>0</td>\n",
       "      <td>0</td>\n",
       "      <td>0</td>\n",
       "      <td>0</td>\n",
       "      <td>0</td>\n",
       "      <td>0</td>\n",
       "      <td>0</td>\n",
       "      <td>0</td>\n",
       "    </tr>\n",
       "    <tr>\n",
       "      <th>3045</th>\n",
       "      <td>1</td>\n",
       "      <td>0</td>\n",
       "      <td>0</td>\n",
       "      <td>0</td>\n",
       "      <td>0</td>\n",
       "      <td>0</td>\n",
       "      <td>0</td>\n",
       "      <td>0</td>\n",
       "      <td>0</td>\n",
       "      <td>0</td>\n",
       "    </tr>\n",
       "    <tr>\n",
       "      <th>3046</th>\n",
       "      <td>1</td>\n",
       "      <td>0</td>\n",
       "      <td>0</td>\n",
       "      <td>0</td>\n",
       "      <td>0</td>\n",
       "      <td>0</td>\n",
       "      <td>0</td>\n",
       "      <td>0</td>\n",
       "      <td>0</td>\n",
       "      <td>0</td>\n",
       "    </tr>\n",
       "  </tbody>\n",
       "</table>\n",
       "<p>3047 rows × 10 columns</p>\n",
       "</div>"
      ],
      "text/plain": [
       "      ae264e3637204a6fb9bb56bc8210ddfd  4d5c57ea9a6940dd891ad53e9dbe8da0  \\\n",
       "0                                    0                                 0   \n",
       "1                                    0                                 0   \n",
       "2                                    0                                 0   \n",
       "3                                    0                                 0   \n",
       "4                                    0                                 0   \n",
       "...                                ...                               ...   \n",
       "3042                                 1                                 0   \n",
       "3043                                 1                                 0   \n",
       "3044                                 1                                 0   \n",
       "3045                                 1                                 0   \n",
       "3046                                 1                                 0   \n",
       "\n",
       "      3f207df678b143eea3cee63160fa8bed  9b98b8c7a33c4b65b9aebfe6a799e6d9  \\\n",
       "0                                    0                                 0   \n",
       "1                                    0                                 0   \n",
       "2                                    0                                 1   \n",
       "3                                    0                                 1   \n",
       "4                                    0                                 1   \n",
       "...                                ...                               ...   \n",
       "3042                                 0                                 0   \n",
       "3043                                 0                                 0   \n",
       "3044                                 0                                 0   \n",
       "3045                                 0                                 0   \n",
       "3046                                 0                                 0   \n",
       "\n",
       "      0b1e1539f2cc45b7b9fa7c272da2e1d7  2298d6c36e964ae4a3e7e9706d1fb8c2  \\\n",
       "0                                    0                                 0   \n",
       "1                                    0                                 0   \n",
       "2                                    0                                 0   \n",
       "3                                    0                                 0   \n",
       "4                                    0                                 0   \n",
       "...                                ...                               ...   \n",
       "3042                                 0                                 0   \n",
       "3043                                 0                                 0   \n",
       "3044                                 0                                 0   \n",
       "3045                                 0                                 0   \n",
       "3046                                 0                                 0   \n",
       "\n",
       "      fafdcd668e3743c1bb461111dcafc2a4  5a8bc65990b245e5a138643cd4eb9837  \\\n",
       "0                                    0                                 0   \n",
       "1                                    0                                 0   \n",
       "2                                    0                                 0   \n",
       "3                                    0                                 0   \n",
       "4                                    0                                 0   \n",
       "...                                ...                               ...   \n",
       "3042                                 0                                 0   \n",
       "3043                                 0                                 0   \n",
       "3044                                 0                                 0   \n",
       "3045                                 0                                 0   \n",
       "3046                                 0                                 0   \n",
       "\n",
       "      f19421c1d4aa40978ebb69ca19b0e20d  2906b810c7d4411798c6938adc9daaa5  \n",
       "0                                    1                                 0  \n",
       "1                                    1                                 0  \n",
       "2                                    0                                 0  \n",
       "3                                    0                                 0  \n",
       "4                                    0                                 0  \n",
       "...                                ...                               ...  \n",
       "3042                                 0                                 0  \n",
       "3043                                 0                                 0  \n",
       "3044                                 0                                 0  \n",
       "3045                                 0                                 0  \n",
       "3046                                 0                                 0  \n",
       "\n",
       "[3047 rows x 10 columns]"
      ]
     },
     "execution_count": 371,
     "metadata": {},
     "output_type": "execute_result"
    }
   ],
   "source": [
    "complete_df"
   ]
  },
  {
   "cell_type": "markdown",
   "metadata": {},
   "source": [
    "group single offers to offer types"
   ]
  },
  {
   "cell_type": "code",
   "execution_count": 372,
   "metadata": {},
   "outputs": [],
   "source": [
    "complete_df.loc[(complete_df['ae264e3637204a6fb9bb56bc8210ddfd']==1) |\n",
    "                (complete_df['4d5c57ea9a6940dd891ad53e9dbe8da0']==1) |\n",
    "                (complete_df['9b98b8c7a33c4b65b9aebfe6a799e6d9']==1) |\n",
    "                (complete_df['f19421c1d4aa40978ebb69ca19b0e20d']==1),'bogo'] = 1 \n",
    "\n",
    "complete_df.loc[(complete_df['0b1e1539f2cc45b7b9fa7c272da2e1d7']==1) |\n",
    "                (complete_df['2298d6c36e964ae4a3e7e9706d1fb8c2']==1) |\n",
    "                (complete_df['fafdcd668e3743c1bb461111dcafc2a4']==1) |\n",
    "                (complete_df['2906b810c7d4411798c6938adc9daaa5']==1),'discount'] = 1 \n",
    "\n",
    "complete_df.loc[(complete_df['3f207df678b143eea3cee63160fa8bed']==1) |\n",
    "                (complete_df['5a8bc65990b245e5a138643cd4eb9837']==1) ,'informational'] = 1 "
   ]
  },
  {
   "cell_type": "code",
   "execution_count": 373,
   "metadata": {},
   "outputs": [],
   "source": [
    "joined = pd.concat([transaction_part.reset_index(),complete_df],axis=1)\n",
    "joined.fillna(0,inplace=True)"
   ]
  },
  {
   "cell_type": "code",
   "execution_count": 374,
   "metadata": {},
   "outputs": [],
   "source": [
    "joined.drop(list(portfolio['id']),axis=1,inplace=True)\n"
   ]
  },
  {
   "cell_type": "code",
   "execution_count": 378,
   "metadata": {},
   "outputs": [
    {
     "data": {
      "text/html": [
       "<div>\n",
       "<style scoped>\n",
       "    .dataframe tbody tr th:only-of-type {\n",
       "        vertical-align: middle;\n",
       "    }\n",
       "\n",
       "    .dataframe tbody tr th {\n",
       "        vertical-align: top;\n",
       "    }\n",
       "\n",
       "    .dataframe thead th {\n",
       "        text-align: right;\n",
       "    }\n",
       "</style>\n",
       "<table border=\"1\" class=\"dataframe\">\n",
       "  <thead>\n",
       "    <tr style=\"text-align: right;\">\n",
       "      <th></th>\n",
       "      <th>index</th>\n",
       "      <th>person</th>\n",
       "      <th>event</th>\n",
       "      <th>time</th>\n",
       "      <th>offer_id</th>\n",
       "      <th>amount</th>\n",
       "      <th>reward</th>\n",
       "      <th>bogo</th>\n",
       "      <th>discount</th>\n",
       "      <th>informational</th>\n",
       "    </tr>\n",
       "  </thead>\n",
       "  <tbody>\n",
       "    <tr>\n",
       "      <th>0</th>\n",
       "      <td>24531</td>\n",
       "      <td>94de646f7b6041228ca7dec82adb97d2</td>\n",
       "      <td>transaction</td>\n",
       "      <td>30</td>\n",
       "      <td>0</td>\n",
       "      <td>7.41</td>\n",
       "      <td>0.0</td>\n",
       "      <td>1.0</td>\n",
       "      <td>0.0</td>\n",
       "      <td>0.0</td>\n",
       "    </tr>\n",
       "    <tr>\n",
       "      <th>1</th>\n",
       "      <td>42252</td>\n",
       "      <td>94de646f7b6041228ca7dec82adb97d2</td>\n",
       "      <td>transaction</td>\n",
       "      <td>102</td>\n",
       "      <td>0</td>\n",
       "      <td>1.47</td>\n",
       "      <td>0.0</td>\n",
       "      <td>1.0</td>\n",
       "      <td>0.0</td>\n",
       "      <td>0.0</td>\n",
       "    </tr>\n",
       "    <tr>\n",
       "      <th>2</th>\n",
       "      <td>77624</td>\n",
       "      <td>94de646f7b6041228ca7dec82adb97d2</td>\n",
       "      <td>transaction</td>\n",
       "      <td>192</td>\n",
       "      <td>0</td>\n",
       "      <td>2.62</td>\n",
       "      <td>0.0</td>\n",
       "      <td>1.0</td>\n",
       "      <td>0.0</td>\n",
       "      <td>0.0</td>\n",
       "    </tr>\n",
       "    <tr>\n",
       "      <th>3</th>\n",
       "      <td>81725</td>\n",
       "      <td>94de646f7b6041228ca7dec82adb97d2</td>\n",
       "      <td>transaction</td>\n",
       "      <td>204</td>\n",
       "      <td>0</td>\n",
       "      <td>0.59</td>\n",
       "      <td>0.0</td>\n",
       "      <td>1.0</td>\n",
       "      <td>0.0</td>\n",
       "      <td>0.0</td>\n",
       "    </tr>\n",
       "    <tr>\n",
       "      <th>4</th>\n",
       "      <td>93913</td>\n",
       "      <td>94de646f7b6041228ca7dec82adb97d2</td>\n",
       "      <td>transaction</td>\n",
       "      <td>246</td>\n",
       "      <td>0</td>\n",
       "      <td>2.28</td>\n",
       "      <td>0.0</td>\n",
       "      <td>1.0</td>\n",
       "      <td>0.0</td>\n",
       "      <td>0.0</td>\n",
       "    </tr>\n",
       "    <tr>\n",
       "      <th>...</th>\n",
       "      <td>...</td>\n",
       "      <td>...</td>\n",
       "      <td>...</td>\n",
       "      <td>...</td>\n",
       "      <td>...</td>\n",
       "      <td>...</td>\n",
       "      <td>...</td>\n",
       "      <td>...</td>\n",
       "      <td>...</td>\n",
       "      <td>...</td>\n",
       "    </tr>\n",
       "    <tr>\n",
       "      <th>3042</th>\n",
       "      <td>288519</td>\n",
       "      <td>cf7e4e33c98e4a2489846d97d46cb84e</td>\n",
       "      <td>transaction</td>\n",
       "      <td>642</td>\n",
       "      <td>0</td>\n",
       "      <td>45.07</td>\n",
       "      <td>0.0</td>\n",
       "      <td>1.0</td>\n",
       "      <td>0.0</td>\n",
       "      <td>0.0</td>\n",
       "    </tr>\n",
       "    <tr>\n",
       "      <th>3043</th>\n",
       "      <td>301109</td>\n",
       "      <td>cf7e4e33c98e4a2489846d97d46cb84e</td>\n",
       "      <td>transaction</td>\n",
       "      <td>690</td>\n",
       "      <td>0</td>\n",
       "      <td>6.72</td>\n",
       "      <td>0.0</td>\n",
       "      <td>1.0</td>\n",
       "      <td>0.0</td>\n",
       "      <td>0.0</td>\n",
       "    </tr>\n",
       "    <tr>\n",
       "      <th>3044</th>\n",
       "      <td>302418</td>\n",
       "      <td>cf7e4e33c98e4a2489846d97d46cb84e</td>\n",
       "      <td>transaction</td>\n",
       "      <td>696</td>\n",
       "      <td>0</td>\n",
       "      <td>0.98</td>\n",
       "      <td>0.0</td>\n",
       "      <td>1.0</td>\n",
       "      <td>0.0</td>\n",
       "      <td>0.0</td>\n",
       "    </tr>\n",
       "    <tr>\n",
       "      <th>3045</th>\n",
       "      <td>303638</td>\n",
       "      <td>cf7e4e33c98e4a2489846d97d46cb84e</td>\n",
       "      <td>transaction</td>\n",
       "      <td>702</td>\n",
       "      <td>0</td>\n",
       "      <td>7.00</td>\n",
       "      <td>0.0</td>\n",
       "      <td>1.0</td>\n",
       "      <td>0.0</td>\n",
       "      <td>0.0</td>\n",
       "    </tr>\n",
       "    <tr>\n",
       "      <th>3046</th>\n",
       "      <td>304696</td>\n",
       "      <td>cf7e4e33c98e4a2489846d97d46cb84e</td>\n",
       "      <td>transaction</td>\n",
       "      <td>708</td>\n",
       "      <td>0</td>\n",
       "      <td>5.65</td>\n",
       "      <td>0.0</td>\n",
       "      <td>1.0</td>\n",
       "      <td>0.0</td>\n",
       "      <td>0.0</td>\n",
       "    </tr>\n",
       "  </tbody>\n",
       "</table>\n",
       "<p>3047 rows × 10 columns</p>\n",
       "</div>"
      ],
      "text/plain": [
       "       index                            person        event  time  offer_id  \\\n",
       "0      24531  94de646f7b6041228ca7dec82adb97d2  transaction    30         0   \n",
       "1      42252  94de646f7b6041228ca7dec82adb97d2  transaction   102         0   \n",
       "2      77624  94de646f7b6041228ca7dec82adb97d2  transaction   192         0   \n",
       "3      81725  94de646f7b6041228ca7dec82adb97d2  transaction   204         0   \n",
       "4      93913  94de646f7b6041228ca7dec82adb97d2  transaction   246         0   \n",
       "...      ...                               ...          ...   ...       ...   \n",
       "3042  288519  cf7e4e33c98e4a2489846d97d46cb84e  transaction   642         0   \n",
       "3043  301109  cf7e4e33c98e4a2489846d97d46cb84e  transaction   690         0   \n",
       "3044  302418  cf7e4e33c98e4a2489846d97d46cb84e  transaction   696         0   \n",
       "3045  303638  cf7e4e33c98e4a2489846d97d46cb84e  transaction   702         0   \n",
       "3046  304696  cf7e4e33c98e4a2489846d97d46cb84e  transaction   708         0   \n",
       "\n",
       "      amount  reward  bogo  discount  informational  \n",
       "0       7.41     0.0   1.0       0.0            0.0  \n",
       "1       1.47     0.0   1.0       0.0            0.0  \n",
       "2       2.62     0.0   1.0       0.0            0.0  \n",
       "3       0.59     0.0   1.0       0.0            0.0  \n",
       "4       2.28     0.0   1.0       0.0            0.0  \n",
       "...      ...     ...   ...       ...            ...  \n",
       "3042   45.07     0.0   1.0       0.0            0.0  \n",
       "3043    6.72     0.0   1.0       0.0            0.0  \n",
       "3044    0.98     0.0   1.0       0.0            0.0  \n",
       "3045    7.00     0.0   1.0       0.0            0.0  \n",
       "3046    5.65     0.0   1.0       0.0            0.0  \n",
       "\n",
       "[3047 rows x 10 columns]"
      ]
     },
     "execution_count": 378,
     "metadata": {},
     "output_type": "execute_result"
    }
   ],
   "source": [
    "joined"
   ]
  },
  {
   "cell_type": "code",
   "execution_count": 318,
   "metadata": {},
   "outputs": [],
   "source": [
    "joined = joined[joined.amount < 50]"
   ]
  },
  {
   "cell_type": "code",
   "execution_count": 327,
   "metadata": {},
   "outputs": [],
   "source": [
    "joined = joined.groupby('person').sum()"
   ]
  },
  {
   "cell_type": "code",
   "execution_count": 328,
   "metadata": {},
   "outputs": [],
   "source": [
    "import seaborn as sns"
   ]
  },
  {
   "cell_type": "markdown",
   "metadata": {},
   "source": [
    "## make dataset for regression"
   ]
  },
  {
   "cell_type": "code",
   "execution_count": 329,
   "metadata": {},
   "outputs": [],
   "source": [
    "df_lm_X = joined[['bogo','discount','informational']]\n",
    "df_lm_y = joined.amount"
   ]
  },
  {
   "cell_type": "markdown",
   "metadata": {},
   "source": [
    "# Modelling"
   ]
  },
  {
   "cell_type": "code",
   "execution_count": 330,
   "metadata": {},
   "outputs": [],
   "source": [
    "from sklearn import linear_model\n",
    "from sklearn.model_selection import train_test_split\n",
    "from sklearn.metrics import mean_squared_error, r2_score"
   ]
  },
  {
   "cell_type": "code",
   "execution_count": 331,
   "metadata": {},
   "outputs": [],
   "source": [
    "X_train, X_test, y_train, y_test = train_test_split(df_lm_X, df_lm_y, test_size=0.33, random_state=42)"
   ]
  },
  {
   "cell_type": "code",
   "execution_count": 332,
   "metadata": {},
   "outputs": [],
   "source": [
    "lm = linear_model.LinearRegression()"
   ]
  },
  {
   "cell_type": "code",
   "execution_count": 333,
   "metadata": {},
   "outputs": [
    {
     "data": {
      "text/plain": [
       "LinearRegression(copy_X=True, fit_intercept=True, n_jobs=None, normalize=False)"
      ]
     },
     "execution_count": 333,
     "metadata": {},
     "output_type": "execute_result"
    }
   ],
   "source": [
    "lm.fit(X_train,y_train)"
   ]
  },
  {
   "cell_type": "code",
   "execution_count": 334,
   "metadata": {},
   "outputs": [],
   "source": [
    "y_pred = lm.predict(X_test)"
   ]
  },
  {
   "cell_type": "code",
   "execution_count": 335,
   "metadata": {},
   "outputs": [
    {
     "name": "stdout",
     "output_type": "stream",
     "text": [
      "Coefficients: \n",
      " [-5.55844068 -6.48204993 -3.70368393] 345.4701963800277\n",
      "Mean squared error: 10469.07\n",
      "Coefficient of determination: 0.12\n"
     ]
    }
   ],
   "source": [
    "# The coefficients\n",
    "print('Coefficients: \\n', lm.coef_, lm.intercept_)\n",
    "# The mean squared error\n",
    "print('Mean squared error: %.2f'\n",
    "      % mean_squared_error(y_test, y_pred))\n",
    "# The coefficient of determination: 1 is perfect prediction\n",
    "print('Coefficient of determination: %.2f'\n",
    "      % r2_score(y_test, y_pred))"
   ]
  },
  {
   "cell_type": "code",
   "execution_count": null,
   "metadata": {},
   "outputs": [],
   "source": []
  },
  {
   "cell_type": "code",
   "execution_count": null,
   "metadata": {},
   "outputs": [],
   "source": []
  },
  {
   "cell_type": "code",
   "execution_count": null,
   "metadata": {},
   "outputs": [],
   "source": []
  },
  {
   "cell_type": "code",
   "execution_count": null,
   "metadata": {},
   "outputs": [],
   "source": []
  },
  {
   "cell_type": "code",
   "execution_count": null,
   "metadata": {},
   "outputs": [],
   "source": []
  },
  {
   "cell_type": "code",
   "execution_count": null,
   "metadata": {},
   "outputs": [],
   "source": []
  },
  {
   "cell_type": "code",
   "execution_count": null,
   "metadata": {},
   "outputs": [],
   "source": []
  },
  {
   "cell_type": "code",
   "execution_count": null,
   "metadata": {},
   "outputs": [],
   "source": []
  },
  {
   "cell_type": "code",
   "execution_count": null,
   "metadata": {},
   "outputs": [],
   "source": [
    "transcript.head(10)"
   ]
  },
  {
   "cell_type": "markdown",
   "metadata": {},
   "source": [
    "check, what are customers with a high order behaviour"
   ]
  },
  {
   "cell_type": "code",
   "execution_count": null,
   "metadata": {},
   "outputs": [],
   "source": [
    "multi_order = transcript.groupby('person').count()\n",
    "multi_order.sort_values('event',ascending=False,inplace=True)\n",
    "multi_order.head()"
   ]
  },
  {
   "cell_type": "markdown",
   "metadata": {},
   "source": [
    "chose a sample customer for looking into one example behaviour"
   ]
  },
  {
   "cell_type": "code",
   "execution_count": null,
   "metadata": {},
   "outputs": [],
   "source": [
    "example_customer = multi_order.index[0]"
   ]
  },
  {
   "cell_type": "code",
   "execution_count": null,
   "metadata": {},
   "outputs": [],
   "source": [
    "#transcript[transcript['person']==example_customer].to_excel('sample_customer.xlsx')"
   ]
  },
  {
   "cell_type": "code",
   "execution_count": null,
   "metadata": {},
   "outputs": [],
   "source": [
    "#transcript[(transcript['amount']>1) | (transcript['reward']>1)].head(7)"
   ]
  },
  {
   "cell_type": "markdown",
   "metadata": {},
   "source": [
    "create a temporary dataframe containing all times of offer received and offer viewed. this will be usefull for feature engineering. Due to the merge there will be data in the result where offer viewed will be before offer received. these must be removed. once this is done removing duplicate values in the time received column will make sure only adjacent events of offer received and offer viewed are counted into one event"
   ]
  },
  {
   "cell_type": "code",
   "execution_count": null,
   "metadata": {},
   "outputs": [],
   "source": [
    "df_temp_view = pd.merge(transcript[transcript['event'] == 'offer received'][['person', 'offer_id', 'time']],\n",
    "                 transcript[transcript['event'] == 'offer viewed'][['person', 'offer_id', 'time']],\n",
    "                 on=['person', 'offer_id'], how='left', suffixes=['_received', '_viewed'])\n",
    "\n",
    "#keep entries that are equal meaning the customer checked the offer quite quickly\n",
    "df_temp_view = df_temp_view[~(df_temp_view['time_viewed'] < df_temp_view['time_received'])] \n",
    "\n",
    "# now that all values are removed where time viewed is smaller than time received duplicates can be removed\n",
    "df_temp_view.drop_duplicates(['person','offer_id','time_received'],keep='first',inplace=True)\n",
    "\n",
    "# this handles the edgecase where a new offer is received and viewed and an older offer of the same type has never been viewed\n",
    "# nevertheless it can still happen that an offer is viewed very long after having it received\n",
    "df_temp_view.drop_duplicates(['person','offer_id','time_viewed'],keep='last',inplace=True) "
   ]
  },
  {
   "cell_type": "code",
   "execution_count": null,
   "metadata": {},
   "outputs": [],
   "source": [
    "df_temp_view[df_temp_view['time_viewed']<df_temp_view['time_received']]"
   ]
  },
  {
   "cell_type": "markdown",
   "metadata": {},
   "source": [
    "<- no inconsistancies"
   ]
  },
  {
   "cell_type": "markdown",
   "metadata": {},
   "source": [
    "the same approach as before is chosen for creating a dataset considerung the time of offer completed and the reward information"
   ]
  },
  {
   "cell_type": "code",
   "execution_count": null,
   "metadata": {},
   "outputs": [],
   "source": [
    "df_temp_completed =  pd.merge(transcript[transcript['event'] == 'offer received'][['person', 'offer_id', 'time']],\n",
    "                 transcript[transcript['event'] == 'offer completed'][['person', 'offer_id', 'time','reward']],\n",
    "                 on=['person', 'offer_id'], how='left', suffixes=['_received', '_completed'])\n",
    "\n",
    "\n",
    "df_temp_completed = df_temp_completed[~(df_temp_completed['time_completed'] < df_temp_completed['time_received'])] #keep entries that are equal meaning the customer checked the offer quite quickly\n",
    "df_temp_completed.drop_duplicates(['person','offer_id','time_received'],keep='first',inplace=True) # now that all values are removed where time viewed is smaller than time received duplicates can be removed\n",
    "\n",
    "# df_sample = df_temp_completed[df_temp_completed['person']==example_customer].copy()\n",
    "# df_sample\n",
    "df_temp_completed.drop_duplicates(['person','offer_id','time_completed'],keep='last',inplace=True) "
   ]
  },
  {
   "cell_type": "code",
   "execution_count": null,
   "metadata": {},
   "outputs": [],
   "source": [
    "df_temp_completed[df_temp_completed['time_completed']<df_temp_completed['time_received']]"
   ]
  },
  {
   "cell_type": "markdown",
   "metadata": {},
   "source": [
    "<- no inconsistancies\n",
    "now the newly created temporary frames will be merged"
   ]
  },
  {
   "cell_type": "code",
   "execution_count": null,
   "metadata": {},
   "outputs": [],
   "source": [
    "customer_offers = pd.merge(df_temp_view,\n",
    "                           df_temp_completed,\n",
    "                          on=['person','offer_id','time_received'],\n",
    "                          how='left')"
   ]
  },
  {
   "cell_type": "markdown",
   "metadata": {},
   "source": [
    "last check needs to be, whether there are data which have a time completed being smaller time viewed. as expected there are data where the customer completes the offer but has never viewed it."
   ]
  },
  {
   "cell_type": "code",
   "execution_count": null,
   "metadata": {},
   "outputs": [],
   "source": [
    "# negatives = customer_offers[customer_offers['time completed']<customer_offers['time viewed']].copy()\n",
    "# negatives.head()"
   ]
  },
  {
   "cell_type": "code",
   "execution_count": null,
   "metadata": {},
   "outputs": [],
   "source": [
    "customer_offers['delta_viewed_received'] = customer_offers['time_viewed'] - customer_offers['time_received']\n",
    "customer_offers['delta_completed_received'] = customer_offers['time_completed'] - customer_offers['time_received']\n",
    "customer_offers['delta_completed_viewed'] = customer_offers['time_completed'] - customer_offers['time_viewed']"
   ]
  },
  {
   "cell_type": "code",
   "execution_count": null,
   "metadata": {},
   "outputs": [],
   "source": [
    "len(customer_offers)"
   ]
  },
  {
   "cell_type": "markdown",
   "metadata": {},
   "source": [
    "to later also use the informational offers as possible features we assume, as stated in the task, that a customer is influenced by the information for the duration time given in the portfolio dataset for each informational offer after he or she has *received* the offer. i add that he can only be influenced if he saw the offer which leads to the following processing"
   ]
  },
  {
   "cell_type": "code",
   "execution_count": null,
   "metadata": {},
   "outputs": [],
   "source": [
    "information_offers = [str(x) for x in list(portfolio[portfolio['offer_type']=='informational']['id'])]\n",
    "information_offers\n",
    "for offer_id in information_offers: #two informational offers are present in portfolio\n",
    "    info_completion_time = portfolio[portfolio['id']==offer_id]['duration'] #each info offer has a duration\n",
    "    #info_completion_time = 48 #setting completion time manually in hrs\n",
    "    delta_time_complete = info_completion_time.iloc[0]\n",
    "    \n",
    "    # time completed should be the time after receiving the info offer\n",
    "    customer_offers.loc[(customer_offers['offer_id']==offer_id) & ~(customer_offers['time_viewed'].isnull()),'time_completed']  = customer_offers['time_received']+delta_time_complete\n",
    "    \n",
    "    # now if the time viewed is larger than time completed the customer cannot have been influenced by the info offer thus will be have a time completed set to nan\n",
    "    customer_offers.loc[(customer_offers['offer_id']==offer_id) & (customer_offers['time_completed'] < customer_offers['time_viewed']),'time_completed'] = None   \n",
    "    \n",
    "    #the reward is generally 0 on info offers but should be nan if there was not even a view or a view after the validity \n",
    "    customer_offers.loc[customer_offers['offer_id']==offer_id,'reward'] = 0 * customer_offers['time_completed'] #keeping nan as nan and others to 0"
   ]
  },
  {
   "cell_type": "code",
   "execution_count": null,
   "metadata": {},
   "outputs": [],
   "source": []
  },
  {
   "cell_type": "markdown",
   "metadata": {},
   "source": [
    "unfortunately there is no information in the transcript table about when an informational offer is completed. for a compensation we will proceed as follows. \n",
    "- so far for all other offers there is a **offer received**, **offer viewed** and **offer completed** entry. we will enrich the table by a calculated completion row for valid data points of informational offer completed\n",
    "- first we sort the data frame for person and continue to work on a copy - adding some helper columns as offer_type\n",
    "- excluding the rows we dont need for computation: only keep transactions and informational offers viewed\n",
    "- by shifting event and person columns we make sure we only process rows that belong together. we compare the shifted rows with the original entries in a row and decide whether a record is to be kept or not\n",
    "- by logical combination of the keep_* columns we have created a criteria a data frame that holds an informational offer followed by the nearest transaction\n",
    "- we replace **transaction** in the event column by **offer_id** from the previous row to match the row entries from the original transcript table\n",
    "- now we will check if the time of the nearest transaction is still within the duration period allowed for the informational offer\n",
    "- setting **amount** and **offer_type** colmn to **np.nan** and **informational** resectively to match the original transcript table format\n",
    "- reducint the amount of columns to the ones necessary"
   ]
  },
  {
   "cell_type": "code",
   "execution_count": null,
   "metadata": {},
   "outputs": [],
   "source": [
    "transcript.head()"
   ]
  },
  {
   "cell_type": "code",
   "execution_count": null,
   "metadata": {},
   "outputs": [],
   "source": [
    "transcript.sort_values(['person','time'],inplace=True)\n",
    "trans = transcript.copy()\n",
    "trans['offer_type'] = trans['offer_id'].apply(lambda x:look_up_offer_type[x])\n",
    "trans = trans[(trans['offer_type']=='informational')|(trans['offer_type'].isnull())].copy()\n",
    "trans = trans[(trans['event']=='offer viewed')|(trans['event']=='transaction')]\n",
    "\n",
    "trans['keep_trans'] = (trans['event']=='transaction') & (trans['event'].shift(1)=='offer viewed') & (trans['person']==trans['person'].shift(1))\n",
    "trans['keep_offer'] = (trans['event']=='offer viewed') & (trans['event'].shift(-1)=='transaction') & (trans['person']==trans['person'].shift(-1))\n",
    "# trans['person_shift'] = trans['person'].shift(-1)\n",
    "trans = trans[trans['keep_trans'] | trans['keep_offer']]\n",
    "\n",
    "trans.loc[trans['offer_id'].isnull(),'offer_id'] = trans['offer_id'].shift(1)"
   ]
  },
  {
   "cell_type": "markdown",
   "metadata": {},
   "source": [
    "check necessary if time for transaction is within duration"
   ]
  },
  {
   "cell_type": "code",
   "execution_count": null,
   "metadata": {},
   "outputs": [],
   "source": [
    "lookup_duration = lookup_dictionary(portfolio,'id','duration')\n",
    "trans['duration'] = trans['offer_id'].apply(lambda x: lookup_duration[x])\n",
    "trans['time_pot_complete'] = trans['time'].shift(-1)\n",
    "trans['within_time'] = (trans['time_pot_complete'] - trans['time'])<=trans['duration']\n",
    "trans = trans[(trans['event']=='transaction') & (trans['within_time']==True)].copy()\n",
    "trans['amount'] = np.nan\n",
    "trans['offer_type'] = 'informational'"
   ]
  },
  {
   "cell_type": "code",
   "execution_count": null,
   "metadata": {},
   "outputs": [],
   "source": [
    "transcript.head(2)"
   ]
  },
  {
   "cell_type": "code",
   "execution_count": null,
   "metadata": {},
   "outputs": [],
   "source": [
    "trans"
   ]
  },
  {
   "cell_type": "code",
   "execution_count": null,
   "metadata": {},
   "outputs": [],
   "source": [
    "inf_transaction_to_offer_completed = trans[['person','event','time','offer_id','amount','reward','offer_type']]"
   ]
  },
  {
   "cell_type": "code",
   "execution_count": null,
   "metadata": {},
   "outputs": [],
   "source": [
    "inf_transaction_to_offer_completed"
   ]
  },
  {
   "cell_type": "code",
   "execution_count": null,
   "metadata": {},
   "outputs": [],
   "source": []
  },
  {
   "cell_type": "code",
   "execution_count": null,
   "metadata": {},
   "outputs": [],
   "source": []
  },
  {
   "cell_type": "code",
   "execution_count": null,
   "metadata": {},
   "outputs": [],
   "source": []
  },
  {
   "cell_type": "markdown",
   "metadata": {},
   "source": [
    "looking into one specific customer the values seem plausible. one can see interesting cases\n",
    "- first row shows the infomation offer\n",
    "- second row has a regular offer with reward\n",
    "- third row shows the case where the offer was read after completion only"
   ]
  },
  {
   "cell_type": "code",
   "execution_count": null,
   "metadata": {},
   "outputs": [],
   "source": [
    "sample2 = customer_offers[customer_offers['person']=='a5a6ef2b78a04ddc9f374dd7c7f60bff'].copy()\n",
    "sample2"
   ]
  },
  {
   "cell_type": "code",
   "execution_count": null,
   "metadata": {},
   "outputs": [],
   "source": [
    "sample = customer_offers[customer_offers['person']==example_customer].copy()\n",
    "sample"
   ]
  },
  {
   "cell_type": "markdown",
   "metadata": {},
   "source": [
    "following data frame ```customer_offers``` represents how much time a person took to view or complete offers. if similar offers were sent to the same person it is the sum of times spent. for this we pivot the table for person in rows and offers in columns"
   ]
  },
  {
   "cell_type": "code",
   "execution_count": null,
   "metadata": {},
   "outputs": [],
   "source": [
    "customer_offers[customer_offers['person']=='0cc6e8553c844c02ab525bc466aa569b']"
   ]
  },
  {
   "cell_type": "code",
   "execution_count": null,
   "metadata": {},
   "outputs": [],
   "source": [
    "offer_times_pivot = pd.pivot_table(customer_offers, index=['person'], columns=['offer_id'], aggfunc='mean')\n",
    "offer_times_pivot.columns = offer_times_pivot.columns.swaplevel(0,1)\n",
    "offer_times_pivot.sort_index(level=0,axis=1,inplace=True)\n",
    "#customer_offers_pivot=customer_offers_pivot.droplevel(0,axis=1)\n",
    "offer_times_pivot.head()"
   ]
  },
  {
   "cell_type": "markdown",
   "metadata": {},
   "source": [
    "one more feature should be, how much money a person spent after he or she saw the offer until completing the offer"
   ]
  },
  {
   "cell_type": "markdown",
   "metadata": {},
   "source": [
    "for a simplified feature extraction lets create a row indicating if it was an informational offer or real offer having a reward"
   ]
  },
  {
   "cell_type": "code",
   "execution_count": null,
   "metadata": {},
   "outputs": [],
   "source": [
    "portfolio"
   ]
  },
  {
   "cell_type": "code",
   "execution_count": null,
   "metadata": {},
   "outputs": [],
   "source": [
    "# def offer_dictionary(look_up_df):\n",
    "#     temp_df = look_up_df.copy()\n",
    "#     temp_df['offer_type'] = temp_df['difficulty'].apply(lambda x: 1 if x >0 else 0)\n",
    "#     return dict(zip(temp_df['id'],temp_df['offer_type']))\n",
    "\n",
    "def lookup_dictionary(look_up_df,search, result):\n",
    "    temp_df = look_up_df.copy()\n",
    "    dic= dict(zip(temp_df[search],temp_df[result]))\n",
    "    dic[None] = None\n",
    "    return dic"
   ]
  },
  {
   "cell_type": "code",
   "execution_count": null,
   "metadata": {},
   "outputs": [],
   "source": [
    "#customer_offers['rewarded offer'] = customer_offers['reward'].apply(lambda x: 1 if x>0 else (0 if x==0 else None))\n",
    "look_up_offer_type = lookup_dictionary(portfolio,'id','offer_type' )\n",
    "customer_offers['offer_type'] = customer_offers['offer_id'].apply(lambda x: look_up_offer_type[x])"
   ]
  },
  {
   "cell_type": "markdown",
   "metadata": {},
   "source": [
    "now we can create a data frame with person in rows and their offer counts in columns. after pivoting this data frame we will be able to do peform feature extraction"
   ]
  },
  {
   "cell_type": "code",
   "execution_count": null,
   "metadata": {},
   "outputs": [],
   "source": [
    "customer_offers.head()"
   ]
  },
  {
   "cell_type": "code",
   "execution_count": null,
   "metadata": {},
   "outputs": [],
   "source": [
    "offer_counts = customer_offers.groupby(['person','offer_type']).agg({'time_received':'count',\n",
    "                             'time_viewed':'count',\n",
    "                              'time_completed':'count',\n",
    "                             'reward':'sum'}).rename(columns={'time_received':'count_received',\n",
    "                                                              'time_viewed':'count_viewed',\n",
    "                                                              'time_completed':'count_completed',\n",
    "                                                              'reward':'sum_reward'})\n",
    "offer_counts_pivot = pd.pivot_table(offer_counts,index='person', columns='offer_type',values=['count_received','count_viewed','count_completed','sum_reward'])\n",
    "offer_counts_pivot.columns = offer_counts_pivot.columns.swaplevel(0,1)\n",
    "offer_counts_pivot.sort_index(level=0,axis=1,inplace=True)\n",
    "offer_counts_pivot.fillna(value=0,inplace=True)\n",
    "offer_counts_pivot.columns.set_levels(['bogo','discount','informational'],level=0,inplace=True)\n",
    "offer_counts_pivot.columns = ['%s%s' % (a, '_%s' % b if b else '') for a, b in offer_counts_pivot.columns]\n",
    "offer_counts_pivot"
   ]
  },
  {
   "cell_type": "code",
   "execution_count": null,
   "metadata": {},
   "outputs": [],
   "source": [
    "def filter_time_range(df_ele,trange):\n",
    "    if (df_ele['time']>=trange[0]) and (df_ele['time']<=trange[1]):\n",
    "        return df_ele['amount']\n",
    "    else:\n",
    "        return np.nan"
   ]
  },
  {
   "cell_type": "code",
   "execution_count": null,
   "metadata": {},
   "outputs": [],
   "source": [
    "# sample_trans = transcript[transcript['person']=='0cc6e8553c844c02ab525bc466aa569b']\n",
    "# sample =customer_offers[customer_offers['person']=='0cc6e8553c844c02ab525bc466aa569b']\n",
    "# sub_group_ranges = list(zip(sample['time viewed'], sample['time completed']))"
   ]
  },
  {
   "cell_type": "code",
   "execution_count": null,
   "metadata": {},
   "outputs": [],
   "source": [
    "# find_min_max = [min(x) for x in sub_group_ranges]+[max(x) for x in sub_group_ranges]\n",
    "# min_ = min(find_min_max)\n",
    "# max_ = max(find_min_max)\n",
    "# temp_ary = np.arange(min_,max_+1)\n",
    "# temp_dic = dict((el,0) for el in temp_ary)\n",
    "# print(min_,max_)\n",
    "\n",
    "# for tup in sub_group_ranges:\n",
    "#     print(tup)\n",
    "    \n",
    "#     if not(np.isnan(np.sum(tup))):\n",
    "#         run_ary = (np.arange(tup[0],tup[1]+1))\n",
    "#         print(run_ary)\n",
    "#         for j in run_ary:\n",
    "#             temp_dic[j]=temp_dic[j]+1\n",
    "            \n",
    "# temp_dic"
   ]
  },
  {
   "cell_type": "code",
   "execution_count": null,
   "metadata": {},
   "outputs": [],
   "source": [
    "# for trange in sub_group_ranges:\n",
    "#     print(trange)\n",
    "#     sample_trans[str(trange)] = sample_trans.apply(lambda x: filter_time_range(x,trange),axis=1)\n",
    "# dfg_per_offer=sample_trans.groupby(['person']).sum()"
   ]
  },
  {
   "cell_type": "code",
   "execution_count": null,
   "metadata": {},
   "outputs": [],
   "source": [
    "# people = list(transcript['person'])[:100]\n",
    "# for person in people:\n",
    "#     if (transcript[transcript['person']==person]['amount'].value_counts().max()) > 1:\n",
    "#         print(person)"
   ]
  },
  {
   "cell_type": "code",
   "execution_count": null,
   "metadata": {},
   "outputs": [],
   "source": [
    "# transcript[transcript['person']==person]['amount'].value_counts().max()"
   ]
  },
  {
   "cell_type": "code",
   "execution_count": null,
   "metadata": {},
   "outputs": [],
   "source": [
    "# sample_trans = transcript[transcript['person']=='0cc6e8553c844c02ab525bc466aa569b']\n",
    "# sample =customer_offers[customer_offers['person']=='0cc6e8553c844c02ab525bc466aa569b']\n",
    "# sub_group_ranges = list(zip(sample['time viewed'], sample['time completed']))\n",
    "\n",
    "def overlap(sub_group_ranges):\n",
    "    valid_ranges = []\n",
    "    #print(sub_group_ranges)\n",
    "    for tup in sub_group_ranges:\n",
    "        if not (np.isnan(np.sum(tup))):\n",
    "           # print(np.sum(tup))\n",
    "            valid_ranges.append(tup)\n",
    "        #    sub_group_ranges.remove(tup)\n",
    "   # print(valid_ranges)        \n",
    "    tuple_list =[] \n",
    "    if len(valid_ranges)>0:\n",
    "        for tup in valid_ranges:\n",
    "            tuple_list.append(np.arange(tup[0],tup[1]))\n",
    "    \n",
    "    if len(tuple_list)>0:\n",
    "        xs = set(tuple_list[0])\n",
    "        count = len(tuple_list[0])\n",
    "        for item in tuple_list[1:]:\n",
    "            xs = xs.union(item)\n",
    "            count = count + len(item)\n",
    "    else:\n",
    "        count = 0\n",
    "        xs = set()\n",
    "    if len(xs) < count:\n",
    "        return 1\n",
    "    else:\n",
    "        return 0"
   ]
  },
  {
   "cell_type": "code",
   "execution_count": null,
   "metadata": {},
   "outputs": [],
   "source": [
    "# np.sum((np.nan, 594.0))\n",
    "# overlap([(60.0, 186.0), (336.0, 342.0), (168.0, np.nan), (np.nan, 594.0), (510.0, 594.0), (576.0, 594.0)])\n",
    "# overlap([(108.0, np.nan), (504.0, 522.0), (174.0, 252.0), (336.0, 342.0), (594.0, 630.0), (np.nan, np.nan)])\n",
    "# p = list(transcript.groupby('person').count().sort_values('event', ascending=False).index)\n",
    "# p.index('0cc6e8553c844c02ab525bc466aa569b')"
   ]
  },
  {
   "cell_type": "code",
   "execution_count": null,
   "metadata": {},
   "outputs": [],
   "source": [
    "%%time\n",
    "file_name = 'df_person_money_spent_inc_overlap.pkl'\n",
    "sub_group_ranges=None\n",
    "collected_sub_group_ranges = None\n",
    "#df_person_money_spent=None\n",
    "if os.path.isfile(file_name):\n",
    "    df_person_money_spent = pd.read_pickle(file_name)\n",
    "    print('read file {}'.format(file_name))\n",
    "else:\n",
    "    person_list =list(transcript.groupby('person').count().sort_values('event', ascending=False).index)[:80]\n",
    "    person_money_spent = []\n",
    "    person_money_spent_per_offer=[]\n",
    "    overlap_list=[]\n",
    "    for i, person in enumerate(person_list):\n",
    "        df_offer = pd.DataFrame()\n",
    "        if i%100==0:\n",
    "            print(i,' person evaluated')\n",
    "        offer_list = [str(x) for x in list(transcript[transcript['person']==person]['offer_id'].unique())]\n",
    "        if 'None' in offer_list : offer_list.remove('None')\n",
    "        person_money_spent_per_offer=[]\n",
    "        collected_sub_group_ranges=[]\n",
    "        for offer_id in offer_list:\n",
    "           # print(offer_id)\n",
    "            df = transcript.loc[transcript['person']==person].copy()\n",
    "            sample = customer_offers.loc[(customer_offers['person']==person) & (customer_offers['offer_id']==offer_id)]\n",
    "            sub_group_ranges = list(zip(sample['time_viewed'], sample['time_completed']))\n",
    "            collected_sub_group_ranges = collected_sub_group_ranges+sub_group_ranges\n",
    "            for trange in sub_group_ranges:\n",
    "                df[str(trange)] = df.apply(lambda x: filter_time_range(x,trange),axis=1)\n",
    "            dfg_per_offer=df.groupby(['person']).sum()\n",
    "            sub_result = pd.concat([dfg_per_offer.iloc[:,:3],dfg_per_offer.iloc[:,3:].sum(axis=1)],axis=1)\n",
    "            sub_result['offer_id'] = offer_id\n",
    "            \n",
    "            person_money_spent_per_offer.append(sub_result)\n",
    "           # print(len(person_money_spent_per_offer))\n",
    "        if len(offer_list) >0:\n",
    "            df_person_money_spent_per_offer = pd.concat(person_money_spent_per_offer,axis=0)\n",
    "            #print(collected_sub_group_ranges)\n",
    "            overlap_status = overlap(collected_sub_group_ranges)\n",
    "           # print('overlap: ',overlap_status)\n",
    "            df_person_money_spent_per_offer['overlap'] = overlap_status\n",
    "            person_money_spent.append(df_person_money_spent_per_offer)\n",
    "        \n",
    "    df_person_money_spent = pd.concat(person_money_spent,axis=0)\n",
    "    df_person_money_spent.rename(columns={0:'spent_in_offer'},inplace=True)\n",
    "    df_person_money_spent.to_pickle(file_name)\n",
    "    print('wrote file {}'.format(file_name))"
   ]
  },
  {
   "cell_type": "markdown",
   "metadata": {},
   "source": [
    "some of the results overlap. this means that more than one offer is active per customer at the same time(viewed and not yet completed). since they are only less than 9 % of the data they will be excluded. otherwise the amount spent during an offer would be counted multiple times."
   ]
  },
  {
   "cell_type": "code",
   "execution_count": null,
   "metadata": {},
   "outputs": [],
   "source": [
    "df_person_money_spent"
   ]
  },
  {
   "cell_type": "code",
   "execution_count": null,
   "metadata": {},
   "outputs": [],
   "source": [
    "len(df_person_money_spent[df_person_money_spent['overlap']==1])/len(df_person_money_spent)"
   ]
  },
  {
   "cell_type": "markdown",
   "metadata": {},
   "source": [
    "following data frame ```df_person_money_spent``` represents how much a single person spent while an offer was active. if similar offers were sent to the same person it is the sum of spendings. to group further we can pivot the table for person in rows and offers in columns or for a less deep analysis by only reward-type in columns"
   ]
  },
  {
   "cell_type": "code",
   "execution_count": null,
   "metadata": {},
   "outputs": [],
   "source": [
    "group_spending = ['offer_id']\n",
    "group_spending = ['offer_type']\n",
    "df_person_money_spent=df_person_money_spent[df_person_money_spent['overlap']==0].copy()\n",
    "df_person_money_spent['offer_type'] = df_person_money_spent['offer_id'].apply(lambda x: look_up_offer_type[x])\n",
    "\n",
    "df_person_money_spent_pivot = pd.pivot_table(df_person_money_spent, index=['person'], columns=group_spending, aggfunc={'spent_in_offer':'sum'})\n",
    "df_person_money_spent_pivot.columns = df_person_money_spent_pivot.columns.swaplevel(0,1)\n",
    "df_person_money_spent_pivot.sort_index(axis=1,  inplace=True)\n",
    "df_person_money_spent_pivot.fillna(value=0,inplace=True)\n",
    "# df_person_money_spent_pivot.columns.set_levels(['non rewarded','rewarded'],level=0,inplace=True)\n",
    "df_person_money_spent_pivot.columns = ['%s%s' % (a, '_%s' % b if b else '') for a, b in df_person_money_spent_pivot.columns]\n",
    "#person_spendings_by_offer=df_person_money_spent_pivot.droplevel(0,axis=1)\n",
    "df_person_money_spent_pivot"
   ]
  },
  {
   "cell_type": "markdown",
   "metadata": {},
   "source": [
    "now we can start to build a data frame holding demographic data and data derrived from calculations on how much a customer spends regarding a certain offer\n",
    "- taking the base profile dataset containing demographic information\n",
    "- concatenating with information about spendings and rewards per offer\n",
    "- concatenating with spendings and rewards in general"
   ]
  },
  {
   "cell_type": "code",
   "execution_count": null,
   "metadata": {},
   "outputs": [],
   "source": [
    "profile_for_merge = profile.copy()\n",
    "profile_for_merge.index = profile_for_merge.id\n",
    "profile_for_merge.drop('id',axis=1,inplace=True)\n",
    "profile_for_merge"
   ]
  },
  {
   "cell_type": "code",
   "execution_count": null,
   "metadata": {},
   "outputs": [],
   "source": [
    "amount_spent = transcript.groupby('person').agg({'amount':'sum'})\n",
    "amount_spent.columns = ['amount_spent_total']"
   ]
  },
  {
   "cell_type": "code",
   "execution_count": null,
   "metadata": {},
   "outputs": [],
   "source": [
    "df_to_combine=[offer_counts_pivot,df_person_money_spent_pivot,amount_spent,profile_for_merge]\n",
    "                   \n",
    "\n",
    "joined_part1 = pd.merge(profile_for_merge, offer_counts_pivot, how='inner', left_index=True, right_index=True)\n",
    "joined_part2 = pd.merge(joined_part1, df_person_money_spent_pivot, how='inner', left_index=True, right_index=True)\n",
    "customers = pd.merge(joined_part2, amount_spent, how='inner', left_index=True, right_index=True)\n",
    "customers.sort_index(axis=1,  inplace=True)\n",
    "\n",
    "#joined = pd.concat(df_to_combine,axis=1, sort=False)\n",
    "print([len(x) for x in df_to_combine]+[len(customers)])"
   ]
  },
  {
   "cell_type": "code",
   "execution_count": null,
   "metadata": {},
   "outputs": [],
   "source": [
    "customers[customers.index.str.startswith('0cc6e8553c844c02ab525bc466aa569b')]"
   ]
  },
  {
   "cell_type": "code",
   "execution_count": null,
   "metadata": {},
   "outputs": [],
   "source": [
    "customers.sort_values('bogo_spent_in_offer')"
   ]
  },
  {
   "cell_type": "code",
   "execution_count": null,
   "metadata": {},
   "outputs": [],
   "source": [
    "customers.describe()"
   ]
  },
  {
   "cell_type": "code",
   "execution_count": null,
   "metadata": {},
   "outputs": [],
   "source": [
    "customers.to_excel('customers.xlsx')\n",
    "customers.to_csv('customers.csv')"
   ]
  },
  {
   "cell_type": "markdown",
   "metadata": {},
   "source": [
    "## KPI s for person\n",
    "Lets first grab a list of features that come to mind when wanting to analyze the customers behvaiour. \n",
    "\n",
    "- count offers received\n",
    "- count offers viewed\n",
    "- count transactions\n",
    "- count offers completed\n",
    "- total ammount spent\n",
    "- view_ratio\n",
    "- transaction_ratio\n",
    "- completeness_ratio\n",
    "- ammount spent during offer A\n",
    "- ammount spent outside offer\n",
    "- time being customer\n",
    "\n"
   ]
  },
  {
   "cell_type": "markdown",
   "metadata": {},
   "source": [
    "checking conversion rate of each offer type"
   ]
  },
  {
   "cell_type": "code",
   "execution_count": null,
   "metadata": {},
   "outputs": [],
   "source": [
    "customers.columns"
   ]
  },
  {
   "cell_type": "code",
   "execution_count": null,
   "metadata": {},
   "outputs": [],
   "source": [
    "cr_bogo = customers['bogo_count_completed'].sum()/customers['bogo_count_received'].sum()\n",
    "cr_discount = customers['discount_count_completed'].sum()/customers['discount_count_received'].sum()\n",
    "cr_information = customers['informational_count_completed'].sum()/customers['informational_count_received'].sum()\n",
    "print(cr_bogo,cr_discount,cr_information)"
   ]
  },
  {
   "cell_type": "markdown",
   "metadata": {},
   "source": [
    "the high conversion rate of informational offers might be due to the fact that the initial description of the dataset suggests that an informational offer influences the customer for its given duration. this might be too long and can be used as a parameter to tweak later. however the amount spent on informational offers is less then in rewarded offers - roughly half regarding the other offers individually"
   ]
  },
  {
   "cell_type": "code",
   "execution_count": null,
   "metadata": {},
   "outputs": [],
   "source": [
    "sum_bogo = customers['bogo_spent_in_offer'].sum()\n",
    "sum_discount = customers['discount_spent_in_offer'].sum()\n",
    "sum_information = customers['informational_spent_in_offer'].sum()\n",
    "print(sum_bogo,sum_discount,sum_information)"
   ]
  },
  {
   "cell_type": "code",
   "execution_count": null,
   "metadata": {},
   "outputs": [],
   "source": [
    "customers"
   ]
  },
  {
   "cell_type": "code",
   "execution_count": null,
   "metadata": {},
   "outputs": [],
   "source": [
    "customers.sort_values('bogo_count_completed')"
   ]
  },
  {
   "cell_type": "code",
   "execution_count": null,
   "metadata": {},
   "outputs": [],
   "source": [
    "customers.sort_values('informational_count_completed')"
   ]
  },
  {
   "cell_type": "code",
   "execution_count": null,
   "metadata": {},
   "outputs": [],
   "source": []
  }
 ],
 "metadata": {
  "kernelspec": {
   "display_name": "conda_pytorch_p36",
   "language": "python",
   "name": "conda_pytorch_p36"
  },
  "language_info": {
   "codemirror_mode": {
    "name": "ipython",
    "version": 3
   },
   "file_extension": ".py",
   "mimetype": "text/x-python",
   "name": "python",
   "nbconvert_exporter": "python",
   "pygments_lexer": "ipython3",
   "version": "3.6.10"
  }
 },
 "nbformat": 4,
 "nbformat_minor": 4
}
