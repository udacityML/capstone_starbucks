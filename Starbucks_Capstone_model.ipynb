{
 "cells": [
  {
   "cell_type": "code",
   "execution_count": 1,
   "metadata": {},
   "outputs": [],
   "source": [
    "import pandas as pd\n",
    "import numpy as np\n",
    "import seaborn as sns\n",
    "import os"
   ]
  },
  {
   "cell_type": "code",
   "execution_count": 2,
   "metadata": {},
   "outputs": [],
   "source": [
    "from sklearn import linear_model\n",
    "from sklearn.model_selection import train_test_split\n",
    "from sklearn.linear_model import SGDClassifier\n",
    "from sklearn.metrics import mean_squared_error, r2_score, precision_score, confusion_matrix,classification_report\n",
    "from sklearn.preprocessing import MinMaxScaler\n",
    "from sklearn.svm import SVC"
   ]
  },
  {
   "cell_type": "code",
   "execution_count": 3,
   "metadata": {},
   "outputs": [],
   "source": [
    "remove_features = ['person','time','amount', 'offer_id', 'time_received', 'time_viewed', 'mobile', 'email', 'social', 'web','converted','delta_time_reception_viewed','prev_person',\n",
    "       'delta_time_viewed_completion','gender','O','time_completed', 'reward', 'potential_reward', 'duration','offer_type', 'difficulty','is_transaction', ]\n",
    "kept_features = [ 'person',\n",
    "       'age', 'income', 'F', 'M', 'member_since_month','viewed',  'is_completed',\n",
    "       'count_offers_completed', 'count_offers_viewed', 'count_transactions','avg_spending', 'avg_reward',  'delta_time_reception_viewed_avg',\n",
    "       'delta_time_viewed_completion_avg', 'bogo','discount', 'informational']"
   ]
  },
  {
   "cell_type": "code",
   "execution_count": 5,
   "metadata": {},
   "outputs": [],
   "source": [
    "data_dir = './data'"
   ]
  },
  {
   "cell_type": "code",
   "execution_count": 6,
   "metadata": {},
   "outputs": [],
   "source": [
    "features = pd.read_csv(os.path.join(data_dir, 'features.csv'),index_col=0)"
   ]
  },
  {
   "cell_type": "code",
   "execution_count": 7,
   "metadata": {},
   "outputs": [],
   "source": [
    "df = features[features.bogo.isnull()==False].copy()\n",
    "df.replace([np.inf, -np.inf], np.nan,inplace=True)\n",
    "df = df[kept_features]"
   ]
  },
  {
   "cell_type": "markdown",
   "metadata": {},
   "source": [
    "remove columns not wanted"
   ]
  },
  {
   "cell_type": "code",
   "execution_count": 8,
   "metadata": {},
   "outputs": [],
   "source": [
    "df = df.drop(['person','discount','informational','is_completed'],axis=1)"
   ]
  },
  {
   "cell_type": "code",
   "execution_count": 9,
   "metadata": {},
   "outputs": [],
   "source": [
    "demographic = ['age','income','F','M','member_since_month','bogo']\n",
    "df = df[demographic].copy()\n",
    "#df_demo"
   ]
  },
  {
   "cell_type": "code",
   "execution_count": 10,
   "metadata": {},
   "outputs": [],
   "source": [
    "df.dropna(inplace=True)"
   ]
  },
  {
   "cell_type": "code",
   "execution_count": 11,
   "metadata": {},
   "outputs": [
    {
     "data": {
      "text/plain": [
       "Index(['age', 'income', 'F', 'M', 'member_since_month', 'bogo'], dtype='object')"
      ]
     },
     "execution_count": 11,
     "metadata": {},
     "output_type": "execute_result"
    }
   ],
   "source": [
    "df.columns"
   ]
  },
  {
   "cell_type": "code",
   "execution_count": 12,
   "metadata": {},
   "outputs": [],
   "source": [
    "scaler = MinMaxScaler()\n",
    "scaled = pd.DataFrame(scaler.fit_transform(df))"
   ]
  },
  {
   "cell_type": "code",
   "execution_count": 13,
   "metadata": {},
   "outputs": [
    {
     "name": "stdout",
     "output_type": "stream",
     "text": [
      "length of df_y: 19763, \n",
      "length of df_X: 19763\n",
      "train: 13834,\n",
      "test: 5929\n"
     ]
    }
   ],
   "source": [
    "df_y = scaled.iloc[:,-1:]\n",
    "df_X = scaled.iloc[:,:-1]\n",
    "print('length of df_y: {}, \\nlength of df_X: {}'.format(len(df_y),len(df_X)))\n",
    "X_train, X_test, y_train, y_test = train_test_split(df_X, df_y, test_size=0.3, random_state=42)\n",
    "print('train: {},\\ntest: {}'.format(len(y_train),len(y_test)))"
   ]
  },
  {
   "cell_type": "code",
   "execution_count": 14,
   "metadata": {},
   "outputs": [
    {
     "name": "stdout",
     "output_type": "stream",
     "text": [
      "[[1602 1115]\n",
      " [ 941 2271]]\n",
      "              precision    recall  f1-score   support\n",
      "\n",
      "         0.0       0.63      0.59      0.61      2717\n",
      "         1.0       0.67      0.71      0.69      3212\n",
      "\n",
      "    accuracy                           0.65      5929\n",
      "   macro avg       0.65      0.65      0.65      5929\n",
      "weighted avg       0.65      0.65      0.65      5929\n",
      "\n"
     ]
    }
   ],
   "source": [
    "lm = linear_model.LogisticRegression()\n",
    "lm.fit(X_train.values,y_train.values.squeeze())\n",
    "y_pred = lm.predict(X_test)\n",
    "print(confusion_matrix(y_test,y_pred))\n",
    "print(classification_report(y_test,y_pred))"
   ]
  },
  {
   "cell_type": "code",
   "execution_count": 15,
   "metadata": {},
   "outputs": [
    {
     "name": "stdout",
     "output_type": "stream",
     "text": [
      "rbf\n",
      "[[1452 1265]\n",
      " [ 734 2478]]\n",
      "              precision    recall  f1-score   support\n",
      "\n",
      "         0.0       0.66      0.53      0.59      2717\n",
      "         1.0       0.66      0.77      0.71      3212\n",
      "\n",
      "    accuracy                           0.66      5929\n",
      "   macro avg       0.66      0.65      0.65      5929\n",
      "weighted avg       0.66      0.66      0.66      5929\n",
      "\n",
      "rbf\n",
      "[[1755  962]\n",
      " [ 852 2360]]\n",
      "              precision    recall  f1-score   support\n",
      "\n",
      "         0.0       0.67      0.65      0.66      2717\n",
      "         1.0       0.71      0.73      0.72      3212\n",
      "\n",
      "    accuracy                           0.69      5929\n",
      "   macro avg       0.69      0.69      0.69      5929\n",
      "weighted avg       0.69      0.69      0.69      5929\n",
      "\n",
      "rbf\n",
      "[[1858  859]\n",
      " [ 897 2315]]\n",
      "              precision    recall  f1-score   support\n",
      "\n",
      "         0.0       0.67      0.68      0.68      2717\n",
      "         1.0       0.73      0.72      0.73      3212\n",
      "\n",
      "    accuracy                           0.70      5929\n",
      "   macro avg       0.70      0.70      0.70      5929\n",
      "weighted avg       0.70      0.70      0.70      5929\n",
      "\n",
      "poly\n",
      "[[1345 1372]\n",
      " [ 748 2464]]\n",
      "              precision    recall  f1-score   support\n",
      "\n",
      "         0.0       0.64      0.50      0.56      2717\n",
      "         1.0       0.64      0.77      0.70      3212\n",
      "\n",
      "    accuracy                           0.64      5929\n",
      "   macro avg       0.64      0.63      0.63      5929\n",
      "weighted avg       0.64      0.64      0.64      5929\n",
      "\n",
      "poly\n",
      "[[1737  980]\n",
      " [ 832 2380]]\n",
      "              precision    recall  f1-score   support\n",
      "\n",
      "         0.0       0.68      0.64      0.66      2717\n",
      "         1.0       0.71      0.74      0.72      3212\n",
      "\n",
      "    accuracy                           0.69      5929\n",
      "   macro avg       0.69      0.69      0.69      5929\n",
      "weighted avg       0.69      0.69      0.69      5929\n",
      "\n",
      "poly\n",
      "[[1716 1001]\n",
      " [ 805 2407]]\n",
      "              precision    recall  f1-score   support\n",
      "\n",
      "         0.0       0.68      0.63      0.66      2717\n",
      "         1.0       0.71      0.75      0.73      3212\n",
      "\n",
      "    accuracy                           0.70      5929\n",
      "   macro avg       0.69      0.69      0.69      5929\n",
      "weighted avg       0.69      0.70      0.69      5929\n",
      "\n"
     ]
    }
   ],
   "source": [
    "for kernel in ['rbf', 'poly']:\n",
    "    for gamma in [0.1, 1, 5]:\n",
    "        print(kernel)\n",
    "        svm = SVC(kernel=kernel, gamma=gamma)\n",
    "        svm.fit(X_train.values,y_train.values.squeeze())\n",
    "        y_pred = svm.predict(X_test)\n",
    "        print(confusion_matrix(y_test,y_pred))\n",
    "        print(classification_report(y_test,y_pred))"
   ]
  },
  {
   "cell_type": "code",
   "execution_count": 16,
   "metadata": {},
   "outputs": [
    {
     "name": "stdout",
     "output_type": "stream",
     "text": [
      "[[1716 1001]\n",
      " [ 805 2407]]\n",
      "              precision    recall  f1-score   support\n",
      "\n",
      "         0.0       0.68      0.63      0.66      2717\n",
      "         1.0       0.71      0.75      0.73      3212\n",
      "\n",
      "    accuracy                           0.70      5929\n",
      "   macro avg       0.69      0.69      0.69      5929\n",
      "weighted avg       0.69      0.70      0.69      5929\n",
      "\n"
     ]
    }
   ],
   "source": [
    "sgdc = SGDClassifier()\n",
    "sgdc.fit(X_train.values,y_train.values.squeeze())\n",
    "y_pred = svm.predict(X_test)\n",
    "print(confusion_matrix(y_test,y_pred))\n",
    "print(classification_report(y_test,y_pred))"
   ]
  },
  {
   "cell_type": "code",
   "execution_count": 17,
   "metadata": {},
   "outputs": [
    {
     "name": "stdout",
     "output_type": "stream",
     "text": [
      "[[1813  904]\n",
      " [ 910 2302]]\n",
      "              precision    recall  f1-score   support\n",
      "\n",
      "         0.0       0.67      0.67      0.67      2717\n",
      "         1.0       0.72      0.72      0.72      3212\n",
      "\n",
      "    accuracy                           0.69      5929\n",
      "   macro avg       0.69      0.69      0.69      5929\n",
      "weighted avg       0.69      0.69      0.69      5929\n",
      "\n"
     ]
    }
   ],
   "source": [
    "from sklearn.ensemble import RandomForestClassifier\n",
    "forest = RandomForestClassifier(n_estimators=19)\n",
    "forest.fit(X_train.values,y_train.values.squeeze())\n",
    "y_pred = forest.predict(X_test)\n",
    "print(confusion_matrix(y_test,y_pred))\n",
    "print(classification_report(y_test,y_pred))"
   ]
  },
  {
   "cell_type": "code",
   "execution_count": 18,
   "metadata": {},
   "outputs": [
    {
     "name": "stdout",
     "output_type": "stream",
     "text": [
      "[[1951  766]\n",
      " [ 942 2270]]\n",
      "              precision    recall  f1-score   support\n",
      "\n",
      "         0.0       0.67      0.72      0.70      2717\n",
      "         1.0       0.75      0.71      0.73      3212\n",
      "\n",
      "    accuracy                           0.71      5929\n",
      "   macro avg       0.71      0.71      0.71      5929\n",
      "weighted avg       0.71      0.71      0.71      5929\n",
      "\n"
     ]
    }
   ],
   "source": [
    "from xgboost import XGBClassifier\n",
    "for gamma in [6]:\n",
    "    xgb = XGBClassifier(gamma=gamma)\n",
    "    xgb.fit(X_train.values,y_train.values.squeeze())\n",
    "    y_pred = xgb.predict(X_test.values)\n",
    "    print(confusion_matrix(y_test,y_pred))\n",
    "    print(classification_report(y_test,y_pred))"
   ]
  },
  {
   "cell_type": "code",
   "execution_count": 363,
   "metadata": {},
   "outputs": [
    {
     "name": "stdout",
     "output_type": "stream",
     "text": [
      "Coefficients: \n",
      " [[ 0.41438268  1.08747084 -0.52630396 -0.63263727 -0.57463586  0.\n",
      "   1.06949119 -0.11048796 -0.40199582  0.29641008  0.73761866 -0.52462485]] [0.38294705]\n",
      "Mean squared error: 0.33\n",
      "Coefficient of determination: -0.37\n"
     ]
    }
   ],
   "source": [
    "# The coefficients\n",
    "print('Coefficients: \\n', lm.coef_, lm.intercept_)\n",
    "# The mean squared error\n",
    "print('Mean squared error: %.2f'\n",
    "      % mean_squared_error(y_test, y_pred))\n",
    "# The coefficient of determination: 1 is perfect prediction\n",
    "print('Coefficient of determination: %.2f'\n",
    "      % r2_score(y_test, y_pred))"
   ]
  },
  {
   "cell_type": "code",
   "execution_count": 355,
   "metadata": {},
   "outputs": [
    {
     "data": {
      "text/plain": [
       "<AxesSubplot:>"
      ]
     },
     "execution_count": 355,
     "metadata": {},
     "output_type": "execute_result"
    },
    {
     "data": {
      "image/png": "[encoded data removed]",
      "text/plain": [
       "<Figure size 432x288 with 1 Axes>"
      ]
     },
     "metadata": {
      "needs_background": "light"
     },
     "output_type": "display_data"
    }
   ],
   "source": [
    "sns.scatterplot(x=y_test.values.squeeze(),y=y_pred.squeeze(),alpha=.1)"
   ]
  },
  {
   "cell_type": "code",
   "execution_count": null,
   "metadata": {},
   "outputs": [],
   "source": []
  }
 ],
 "metadata": {
  "kernelspec": {
   "display_name": "Python 3",
   "language": "python",
   "name": "python3"
  },
  "language_info": {
   "codemirror_mode": {
    "name": "ipython",
    "version": 3
   },
   "file_extension": ".py",
   "mimetype": "text/x-python",
   "name": "python",
   "nbconvert_exporter": "python",
   "pygments_lexer": "ipython3",
   "version": "3.8.5"
  }
 },
 "nbformat": 4,
 "nbformat_minor": 4
}
