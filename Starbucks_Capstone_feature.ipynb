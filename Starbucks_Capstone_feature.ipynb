{
 "cells": [
  {
   "cell_type": "code",
   "execution_count": 215,
   "metadata": {},
   "outputs": [],
   "source": [
    "import pandas as pd\n",
    "import numpy as np\n",
    "import time\n",
    "from datetime import datetime\n",
    "import matplotlib.pyplot as plt\n",
    "%matplotlib inline"
   ]
  },
  {
   "cell_type": "code",
   "execution_count": 216,
   "metadata": {},
   "outputs": [],
   "source": [
    "pd.set_option('display.max_columns', None)\n",
    "pd.set_option('display.max_rows', 20)"
   ]
  },
  {
   "cell_type": "code",
   "execution_count": 217,
   "metadata": {},
   "outputs": [
    {
     "data": {
      "text/html": [
       "<div>\n",
       "<style scoped>\n",
       "    .dataframe tbody tr th:only-of-type {\n",
       "        vertical-align: middle;\n",
       "    }\n",
       "\n",
       "    .dataframe tbody tr th {\n",
       "        vertical-align: top;\n",
       "    }\n",
       "\n",
       "    .dataframe thead th {\n",
       "        text-align: right;\n",
       "    }\n",
       "</style>\n",
       "<table border=\"1\" class=\"dataframe\">\n",
       "  <thead>\n",
       "    <tr style=\"text-align: right;\">\n",
       "      <th></th>\n",
       "      <th>person</th>\n",
       "      <th>age</th>\n",
       "      <th>amount_spent_total</th>\n",
       "      <th>became_member_on</th>\n",
       "      <th>bogo_count_completed</th>\n",
       "      <th>bogo_count_received</th>\n",
       "      <th>bogo_count_viewed</th>\n",
       "      <th>bogo_spent_in_offer</th>\n",
       "      <th>bogo_sum_reward</th>\n",
       "      <th>discount_count_completed</th>\n",
       "      <th>discount_count_received</th>\n",
       "      <th>discount_count_viewed</th>\n",
       "      <th>discount_spent_in_offer</th>\n",
       "      <th>discount_sum_reward</th>\n",
       "      <th>gender</th>\n",
       "      <th>income</th>\n",
       "      <th>informational_count_completed</th>\n",
       "      <th>informational_count_received</th>\n",
       "      <th>informational_count_viewed</th>\n",
       "      <th>informational_spent_in_offer</th>\n",
       "      <th>informational_sum_reward</th>\n",
       "    </tr>\n",
       "  </thead>\n",
       "  <tbody>\n",
       "    <tr>\n",
       "      <th>0</th>\n",
       "      <td>0610b486422d4921ae7d2bf64640c50b</td>\n",
       "      <td>55</td>\n",
       "      <td>77.01</td>\n",
       "      <td>20170715</td>\n",
       "      <td>1.0</td>\n",
       "      <td>1.0</td>\n",
       "      <td>0.0</td>\n",
       "      <td>0.00</td>\n",
       "      <td>5.0</td>\n",
       "      <td>0.0</td>\n",
       "      <td>0.0</td>\n",
       "      <td>0.0</td>\n",
       "      <td>0.00</td>\n",
       "      <td>0.0</td>\n",
       "      <td>F</td>\n",
       "      <td>112000.0</td>\n",
       "      <td>0.0</td>\n",
       "      <td>1.0</td>\n",
       "      <td>0.0</td>\n",
       "      <td>0.00</td>\n",
       "      <td>0.0</td>\n",
       "    </tr>\n",
       "    <tr>\n",
       "      <th>1</th>\n",
       "      <td>78afa995795e4d85b5d9ceeca43f5fef</td>\n",
       "      <td>75</td>\n",
       "      <td>159.27</td>\n",
       "      <td>20170509</td>\n",
       "      <td>3.0</td>\n",
       "      <td>3.0</td>\n",
       "      <td>3.0</td>\n",
       "      <td>41.61</td>\n",
       "      <td>20.0</td>\n",
       "      <td>0.0</td>\n",
       "      <td>0.0</td>\n",
       "      <td>0.0</td>\n",
       "      <td>0.00</td>\n",
       "      <td>0.0</td>\n",
       "      <td>F</td>\n",
       "      <td>100000.0</td>\n",
       "      <td>1.0</td>\n",
       "      <td>1.0</td>\n",
       "      <td>1.0</td>\n",
       "      <td>49.39</td>\n",
       "      <td>0.0</td>\n",
       "    </tr>\n",
       "    <tr>\n",
       "      <th>2</th>\n",
       "      <td>e2127556f4f64592b11af22de27a7932</td>\n",
       "      <td>68</td>\n",
       "      <td>57.73</td>\n",
       "      <td>20180426</td>\n",
       "      <td>1.0</td>\n",
       "      <td>1.0</td>\n",
       "      <td>1.0</td>\n",
       "      <td>18.42</td>\n",
       "      <td>5.0</td>\n",
       "      <td>1.0</td>\n",
       "      <td>2.0</td>\n",
       "      <td>2.0</td>\n",
       "      <td>18.42</td>\n",
       "      <td>2.0</td>\n",
       "      <td>M</td>\n",
       "      <td>70000.0</td>\n",
       "      <td>0.0</td>\n",
       "      <td>1.0</td>\n",
       "      <td>0.0</td>\n",
       "      <td>0.00</td>\n",
       "      <td>0.0</td>\n",
       "    </tr>\n",
       "    <tr>\n",
       "      <th>3</th>\n",
       "      <td>2eeac8d8feae4a8cad5a6af0499a211d</td>\n",
       "      <td>58</td>\n",
       "      <td>15.62</td>\n",
       "      <td>20171111</td>\n",
       "      <td>0.0</td>\n",
       "      <td>0.0</td>\n",
       "      <td>0.0</td>\n",
       "      <td>0.00</td>\n",
       "      <td>0.0</td>\n",
       "      <td>1.0</td>\n",
       "      <td>2.0</td>\n",
       "      <td>2.0</td>\n",
       "      <td>12.43</td>\n",
       "      <td>2.0</td>\n",
       "      <td>M</td>\n",
       "      <td>51000.0</td>\n",
       "      <td>0.0</td>\n",
       "      <td>1.0</td>\n",
       "      <td>0.0</td>\n",
       "      <td>0.00</td>\n",
       "      <td>0.0</td>\n",
       "    </tr>\n",
       "    <tr>\n",
       "      <th>4</th>\n",
       "      <td>aa4862eba776480b8bb9c68455b8c2e1</td>\n",
       "      <td>61</td>\n",
       "      <td>85.55</td>\n",
       "      <td>20170911</td>\n",
       "      <td>3.0</td>\n",
       "      <td>3.0</td>\n",
       "      <td>3.0</td>\n",
       "      <td>24.89</td>\n",
       "      <td>25.0</td>\n",
       "      <td>0.0</td>\n",
       "      <td>1.0</td>\n",
       "      <td>1.0</td>\n",
       "      <td>0.00</td>\n",
       "      <td>0.0</td>\n",
       "      <td>F</td>\n",
       "      <td>57000.0</td>\n",
       "      <td>1.0</td>\n",
       "      <td>1.0</td>\n",
       "      <td>1.0</td>\n",
       "      <td>0.00</td>\n",
       "      <td>0.0</td>\n",
       "    </tr>\n",
       "  </tbody>\n",
       "</table>\n",
       "</div>"
      ],
      "text/plain": [
       "                             person  age  amount_spent_total  \\\n",
       "0  0610b486422d4921ae7d2bf64640c50b   55               77.01   \n",
       "1  78afa995795e4d85b5d9ceeca43f5fef   75              159.27   \n",
       "2  e2127556f4f64592b11af22de27a7932   68               57.73   \n",
       "3  2eeac8d8feae4a8cad5a6af0499a211d   58               15.62   \n",
       "4  aa4862eba776480b8bb9c68455b8c2e1   61               85.55   \n",
       "\n",
       "   became_member_on  bogo_count_completed  bogo_count_received  \\\n",
       "0          20170715                   1.0                  1.0   \n",
       "1          20170509                   3.0                  3.0   \n",
       "2          20180426                   1.0                  1.0   \n",
       "3          20171111                   0.0                  0.0   \n",
       "4          20170911                   3.0                  3.0   \n",
       "\n",
       "   bogo_count_viewed  bogo_spent_in_offer  bogo_sum_reward  \\\n",
       "0                0.0                 0.00              5.0   \n",
       "1                3.0                41.61             20.0   \n",
       "2                1.0                18.42              5.0   \n",
       "3                0.0                 0.00              0.0   \n",
       "4                3.0                24.89             25.0   \n",
       "\n",
       "   discount_count_completed  discount_count_received  discount_count_viewed  \\\n",
       "0                       0.0                      0.0                    0.0   \n",
       "1                       0.0                      0.0                    0.0   \n",
       "2                       1.0                      2.0                    2.0   \n",
       "3                       1.0                      2.0                    2.0   \n",
       "4                       0.0                      1.0                    1.0   \n",
       "\n",
       "   discount_spent_in_offer  discount_sum_reward gender    income  \\\n",
       "0                     0.00                  0.0      F  112000.0   \n",
       "1                     0.00                  0.0      F  100000.0   \n",
       "2                    18.42                  2.0      M   70000.0   \n",
       "3                    12.43                  2.0      M   51000.0   \n",
       "4                     0.00                  0.0      F   57000.0   \n",
       "\n",
       "   informational_count_completed  informational_count_received  \\\n",
       "0                            0.0                           1.0   \n",
       "1                            1.0                           1.0   \n",
       "2                            0.0                           1.0   \n",
       "3                            0.0                           1.0   \n",
       "4                            1.0                           1.0   \n",
       "\n",
       "   informational_count_viewed  informational_spent_in_offer  \\\n",
       "0                         0.0                          0.00   \n",
       "1                         1.0                         49.39   \n",
       "2                         0.0                          0.00   \n",
       "3                         0.0                          0.00   \n",
       "4                         1.0                          0.00   \n",
       "\n",
       "   informational_sum_reward  \n",
       "0                       0.0  \n",
       "1                       0.0  \n",
       "2                       0.0  \n",
       "3                       0.0  \n",
       "4                       0.0  "
      ]
     },
     "execution_count": 217,
     "metadata": {},
     "output_type": "execute_result"
    }
   ],
   "source": [
    "df = pd.read_csv('customers.csv')\n",
    "df.rename(columns={'Unnamed: 0':'person'},inplace=True)\n",
    "df.head()"
   ]
  },
  {
   "cell_type": "markdown",
   "metadata": {},
   "source": [
    "transform the became_member_on column into a column that lets us know about how long someone is a member already. It seems appropriate to set the Year of the oldest membership to the base year."
   ]
  },
  {
   "cell_type": "code",
   "execution_count": 218,
   "metadata": {},
   "outputs": [],
   "source": [
    "def month_diff(a, b):\n",
    "    return 12 * (a.year - b.year) + (a.month - b.month)"
   ]
  },
  {
   "cell_type": "code",
   "execution_count": 219,
   "metadata": {},
   "outputs": [],
   "source": [
    "df['became_member_on'] = df['became_member_on'].apply(lambda x:datetime.strptime(str(x),'%Y%m%d'))\n",
    "base_time = df['became_member_on'].min()\n",
    "df['member_since_month'] = df.apply(lambda x:month_diff(x['became_member_on'],base_time),axis = 1)\n",
    "df.drop('became_member_on',axis=1,inplace=True)"
   ]
  },
  {
   "cell_type": "code",
   "execution_count": 220,
   "metadata": {},
   "outputs": [],
   "source": [
    "df['count_all_offers_received'] = df.bogo_count_received + df.discount_count_received + df.informational_count_received\n",
    "df['count_all_offers_viewed'] = df.bogo_count_viewed + df.discount_count_viewed + df.informational_count_viewed"
   ]
  },
  {
   "cell_type": "code",
   "execution_count": 221,
   "metadata": {},
   "outputs": [
    {
     "data": {
      "text/plain": [
       "Index(['person', 'age', 'amount_spent_total', 'bogo_count_completed',\n",
       "       'bogo_count_received', 'bogo_count_viewed', 'bogo_spent_in_offer',\n",
       "       'bogo_sum_reward', 'discount_count_completed',\n",
       "       'discount_count_received', 'discount_count_viewed',\n",
       "       'discount_spent_in_offer', 'discount_sum_reward', 'gender', 'income',\n",
       "       'informational_count_completed', 'informational_count_received',\n",
       "       'informational_count_viewed', 'informational_spent_in_offer',\n",
       "       'informational_sum_reward', 'member_since_month',\n",
       "       'count_all_offers_received', 'count_all_offers_viewed'],\n",
       "      dtype='object')"
      ]
     },
     "execution_count": 221,
     "metadata": {},
     "output_type": "execute_result"
    }
   ],
   "source": [
    "df.columns"
   ]
  },
  {
   "cell_type": "code",
   "execution_count": 222,
   "metadata": {},
   "outputs": [],
   "source": [
    "offers = ['bogo','discount','informational']\n",
    "for offer in offers:\n",
    "    df[offer+'_view_ratio'] =  df[offer+'_count_completed']/df['count_all_offers_viewed'] \n",
    "    df[offer+'_receive_ratio'] =  df[offer+'_count_completed']/df['count_all_offers_received'] \n",
    "    df.drop([offer+'_count_viewed',offer+'_count_received',offer+'_count_completed'],axis=1,inplace=True)\n",
    "df.sort_index(axis=1,  inplace=True)"
   ]
  },
  {
   "cell_type": "markdown",
   "metadata": {},
   "source": [
    "instead of string information about being male, female or other lets create a one-hot-encoding. to avoud linear dependency column of other is omitted"
   ]
  },
  {
   "cell_type": "code",
   "execution_count": 223,
   "metadata": {},
   "outputs": [],
   "source": [
    "df = pd.concat([df, pd.get_dummies(df.gender)[['F','M']]],axis=1)\n",
    "df.drop('gender',axis=1,inplace=True)"
   ]
  },
  {
   "cell_type": "code",
   "execution_count": 224,
   "metadata": {},
   "outputs": [],
   "source": [
    "criteria = ['view','receive']\n",
    "ratio_columns = [offer+'_'+crit+'_ratio' for offer in offers for crit in criteria] "
   ]
  },
  {
   "cell_type": "code",
   "execution_count": 225,
   "metadata": {},
   "outputs": [],
   "source": [
    "df =df[['person','age',   'F', 'M','member_since_month','income','count_all_offers_received', 'amount_spent_total', \n",
    "        'bogo_receive_ratio', 'bogo_spent_in_offer', 'bogo_sum_reward', 'bogo_view_ratio',\n",
    "        'discount_receive_ratio', 'discount_spent_in_offer', 'discount_sum_reward', 'discount_view_ratio',\n",
    "       'informational_receive_ratio', 'informational_spent_in_offer','informational_sum_reward', 'informational_view_ratio',\n",
    "       ]]"
   ]
  },
  {
   "cell_type": "markdown",
   "metadata": {},
   "source": [
    "we produced a few entries of np.inf and np.nan by deviding throu the count of offers viewed. since a person who doesnt view an offer cannot acitvely complete it, we eliminate these"
   ]
  },
  {
   "cell_type": "code",
   "execution_count": 228,
   "metadata": {},
   "outputs": [],
   "source": [
    "df.dropna(inplace=True)"
   ]
  },
  {
   "cell_type": "code",
   "execution_count": 230,
   "metadata": {},
   "outputs": [
    {
     "data": {
      "image/png": "[encoded data removed]",
      "text/plain": [
       "<Figure size 432x216 with 1 Axes>"
      ]
     },
     "metadata": {
      "needs_background": "light"
     },
     "output_type": "display_data"
    },
    {
     "data": {
      "image/png": "[encoded data removed]",
      "text/plain": [
       "<Figure size 432x216 with 1 Axes>"
      ]
     },
     "metadata": {
      "needs_background": "light"
     },
     "output_type": "display_data"
    },
    {
     "data": {
      "image/png": "[encoded data removed]",
      "text/plain": [
       "<Figure size 432x216 with 1 Axes>"
      ]
     },
     "metadata": {
      "needs_background": "light"
     },
     "output_type": "display_data"
    },
    {
     "data": {
      "image/png": "[encoded data removed]",
      "text/plain": [
       "<Figure size 432x216 with 1 Axes>"
      ]
     },
     "metadata": {
      "needs_background": "light"
     },
     "output_type": "display_data"
    },
    {
     "data": {
      "image/png": "[encoded data removed]",
      "text/plain": [
       "<Figure size 432x216 with 1 Axes>"
      ]
     },
     "metadata": {
      "needs_background": "light"
     },
     "output_type": "display_data"
    },
    {
     "data": {
      "image/png": "[encoded data removed]",
      "text/plain": [
       "<Figure size 432x216 with 1 Axes>"
      ]
     },
     "metadata": {
      "needs_background": "light"
     },
     "output_type": "display_data"
    }
   ],
   "source": [
    "n_bins = 5\n",
    "for column_name in ratio_columns:\n",
    "    ax=plt.subplots(figsize=(6,3))\n",
    "    # get data by column_name and display a histogram\n",
    "    ax = plt.hist(df[column_name], bins=n_bins)\n",
    "    title=\"Histogram of \" + column_name\n",
    "    plt.title(title, fontsize=12)\n",
    "    plt.show()\n"
   ]
  },
  {
   "cell_type": "code",
   "execution_count": null,
   "metadata": {},
   "outputs": [],
   "source": []
  }
 ],
 "metadata": {
  "kernelspec": {
   "display_name": "conda_pytorch_p36",
   "language": "python",
   "name": "conda_pytorch_p36"
  },
  "language_info": {
   "codemirror_mode": {
    "name": "ipython",
    "version": 3
   },
   "file_extension": ".py",
   "mimetype": "text/x-python",
   "name": "python",
   "nbconvert_exporter": "python",
   "pygments_lexer": "ipython3",
   "version": "3.6.10"
  }
 },
 "nbformat": 4,
 "nbformat_minor": 4
}
