{
 "cells": [
  {
   "cell_type": "code",
   "execution_count": 1,
   "metadata": {},
   "outputs": [],
   "source": [
    "import pandas as pd\n",
    "import numpy as np\n",
    "import math\n",
    "import os\n",
    "import matplotlib.pyplot as plt\n",
    "%matplotlib inline"
   ]
  },
  {
   "cell_type": "code",
   "execution_count": 2,
   "metadata": {},
   "outputs": [],
   "source": [
    "transactions = pd.read_csv('transactions.csv')"
   ]
  },
  {
   "cell_type": "code",
   "execution_count": 3,
   "metadata": {},
   "outputs": [
    {
     "data": {
      "text/html": [
       "<div>\n",
       "<style scoped>\n",
       "    .dataframe tbody tr th:only-of-type {\n",
       "        vertical-align: middle;\n",
       "    }\n",
       "\n",
       "    .dataframe tbody tr th {\n",
       "        vertical-align: top;\n",
       "    }\n",
       "\n",
       "    .dataframe thead th {\n",
       "        text-align: right;\n",
       "    }\n",
       "</style>\n",
       "<table border=\"1\" class=\"dataframe\">\n",
       "  <thead>\n",
       "    <tr style=\"text-align: right;\">\n",
       "      <th></th>\n",
       "      <th>person</th>\n",
       "      <th>time</th>\n",
       "      <th>amount</th>\n",
       "      <th>offer_id</th>\n",
       "      <th>time_received</th>\n",
       "      <th>time_viewed</th>\n",
       "      <th>time_completed</th>\n",
       "      <th>reward</th>\n",
       "      <th>potential_reward</th>\n",
       "      <th>duration</th>\n",
       "      <th>...</th>\n",
       "      <th>email</th>\n",
       "      <th>social</th>\n",
       "      <th>web</th>\n",
       "      <th>age</th>\n",
       "      <th>gender</th>\n",
       "      <th>income</th>\n",
       "      <th>F</th>\n",
       "      <th>M</th>\n",
       "      <th>O</th>\n",
       "      <th>member_since_month</th>\n",
       "    </tr>\n",
       "  </thead>\n",
       "  <tbody>\n",
       "    <tr>\n",
       "      <th>0</th>\n",
       "      <td>0009655768c64bdeb2e877511632db8f</td>\n",
       "      <td>168.0</td>\n",
       "      <td>NaN</td>\n",
       "      <td>5a8bc65990b245e5a138643cd4eb9837</td>\n",
       "      <td>168.0</td>\n",
       "      <td>192.0</td>\n",
       "      <td>NaN</td>\n",
       "      <td>0.0</td>\n",
       "      <td>0.0</td>\n",
       "      <td>72.0</td>\n",
       "      <td>...</td>\n",
       "      <td>1.0</td>\n",
       "      <td>1.0</td>\n",
       "      <td>0.0</td>\n",
       "      <td>33.0</td>\n",
       "      <td>M</td>\n",
       "      <td>72000.0</td>\n",
       "      <td>0.0</td>\n",
       "      <td>1.0</td>\n",
       "      <td>0.0</td>\n",
       "      <td>45.0</td>\n",
       "    </tr>\n",
       "    <tr>\n",
       "      <th>1</th>\n",
       "      <td>0009655768c64bdeb2e877511632db8f</td>\n",
       "      <td>228.0</td>\n",
       "      <td>22.16</td>\n",
       "      <td>NaN</td>\n",
       "      <td>NaN</td>\n",
       "      <td>NaN</td>\n",
       "      <td>NaN</td>\n",
       "      <td>NaN</td>\n",
       "      <td>NaN</td>\n",
       "      <td>NaN</td>\n",
       "      <td>...</td>\n",
       "      <td>NaN</td>\n",
       "      <td>NaN</td>\n",
       "      <td>NaN</td>\n",
       "      <td>33.0</td>\n",
       "      <td>M</td>\n",
       "      <td>72000.0</td>\n",
       "      <td>0.0</td>\n",
       "      <td>1.0</td>\n",
       "      <td>0.0</td>\n",
       "      <td>45.0</td>\n",
       "    </tr>\n",
       "    <tr>\n",
       "      <th>2</th>\n",
       "      <td>0009655768c64bdeb2e877511632db8f</td>\n",
       "      <td>336.0</td>\n",
       "      <td>NaN</td>\n",
       "      <td>3f207df678b143eea3cee63160fa8bed</td>\n",
       "      <td>336.0</td>\n",
       "      <td>372.0</td>\n",
       "      <td>NaN</td>\n",
       "      <td>0.0</td>\n",
       "      <td>0.0</td>\n",
       "      <td>96.0</td>\n",
       "      <td>...</td>\n",
       "      <td>1.0</td>\n",
       "      <td>0.0</td>\n",
       "      <td>1.0</td>\n",
       "      <td>33.0</td>\n",
       "      <td>M</td>\n",
       "      <td>72000.0</td>\n",
       "      <td>0.0</td>\n",
       "      <td>1.0</td>\n",
       "      <td>0.0</td>\n",
       "      <td>45.0</td>\n",
       "    </tr>\n",
       "    <tr>\n",
       "      <th>3</th>\n",
       "      <td>0009655768c64bdeb2e877511632db8f</td>\n",
       "      <td>414.0</td>\n",
       "      <td>8.57</td>\n",
       "      <td>NaN</td>\n",
       "      <td>NaN</td>\n",
       "      <td>NaN</td>\n",
       "      <td>NaN</td>\n",
       "      <td>NaN</td>\n",
       "      <td>NaN</td>\n",
       "      <td>NaN</td>\n",
       "      <td>...</td>\n",
       "      <td>NaN</td>\n",
       "      <td>NaN</td>\n",
       "      <td>NaN</td>\n",
       "      <td>33.0</td>\n",
       "      <td>M</td>\n",
       "      <td>72000.0</td>\n",
       "      <td>0.0</td>\n",
       "      <td>1.0</td>\n",
       "      <td>0.0</td>\n",
       "      <td>45.0</td>\n",
       "    </tr>\n",
       "    <tr>\n",
       "      <th>4</th>\n",
       "      <td>0009655768c64bdeb2e877511632db8f</td>\n",
       "      <td>528.0</td>\n",
       "      <td>14.11</td>\n",
       "      <td>NaN</td>\n",
       "      <td>NaN</td>\n",
       "      <td>NaN</td>\n",
       "      <td>NaN</td>\n",
       "      <td>NaN</td>\n",
       "      <td>NaN</td>\n",
       "      <td>NaN</td>\n",
       "      <td>...</td>\n",
       "      <td>NaN</td>\n",
       "      <td>NaN</td>\n",
       "      <td>NaN</td>\n",
       "      <td>33.0</td>\n",
       "      <td>M</td>\n",
       "      <td>72000.0</td>\n",
       "      <td>0.0</td>\n",
       "      <td>1.0</td>\n",
       "      <td>0.0</td>\n",
       "      <td>45.0</td>\n",
       "    </tr>\n",
       "  </tbody>\n",
       "</table>\n",
       "<p>5 rows × 23 columns</p>\n",
       "</div>"
      ],
      "text/plain": [
       "                             person   time  amount  \\\n",
       "0  0009655768c64bdeb2e877511632db8f  168.0     NaN   \n",
       "1  0009655768c64bdeb2e877511632db8f  228.0   22.16   \n",
       "2  0009655768c64bdeb2e877511632db8f  336.0     NaN   \n",
       "3  0009655768c64bdeb2e877511632db8f  414.0    8.57   \n",
       "4  0009655768c64bdeb2e877511632db8f  528.0   14.11   \n",
       "\n",
       "                           offer_id  time_received  time_viewed  \\\n",
       "0  5a8bc65990b245e5a138643cd4eb9837          168.0        192.0   \n",
       "1                               NaN            NaN          NaN   \n",
       "2  3f207df678b143eea3cee63160fa8bed          336.0        372.0   \n",
       "3                               NaN            NaN          NaN   \n",
       "4                               NaN            NaN          NaN   \n",
       "\n",
       "   time_completed  reward  potential_reward  duration  ... email  social  web  \\\n",
       "0             NaN     0.0               0.0      72.0  ...   1.0     1.0  0.0   \n",
       "1             NaN     NaN               NaN       NaN  ...   NaN     NaN  NaN   \n",
       "2             NaN     0.0               0.0      96.0  ...   1.0     0.0  1.0   \n",
       "3             NaN     NaN               NaN       NaN  ...   NaN     NaN  NaN   \n",
       "4             NaN     NaN               NaN       NaN  ...   NaN     NaN  NaN   \n",
       "\n",
       "    age  gender   income    F    M    O  member_since_month  \n",
       "0  33.0       M  72000.0  0.0  1.0  0.0                45.0  \n",
       "1  33.0       M  72000.0  0.0  1.0  0.0                45.0  \n",
       "2  33.0       M  72000.0  0.0  1.0  0.0                45.0  \n",
       "3  33.0       M  72000.0  0.0  1.0  0.0                45.0  \n",
       "4  33.0       M  72000.0  0.0  1.0  0.0                45.0  \n",
       "\n",
       "[5 rows x 23 columns]"
      ]
     },
     "execution_count": 3,
     "metadata": {},
     "output_type": "execute_result"
    }
   ],
   "source": [
    "transactions.head()"
   ]
  },
  {
   "cell_type": "markdown",
   "metadata": {},
   "source": [
    "lets keep the rows which contain either transactions or offers that have actually been viewed - only those can have an impact onto the customer"
   ]
  },
  {
   "cell_type": "code",
   "execution_count": 4,
   "metadata": {},
   "outputs": [],
   "source": [
    "transactions = transactions[(transactions.offer_type=='transaction') | (transactions.time_viewed.isnull()==False)].copy()\n",
    "transactions.sort_values(['person','time','offer_id'],inplace=True)"
   ]
  },
  {
   "cell_type": "markdown",
   "metadata": {},
   "source": [
    "define the helper columns to calculate a conversion rate"
   ]
  },
  {
   "cell_type": "code",
   "execution_count": 5,
   "metadata": {},
   "outputs": [],
   "source": [
    "conv= transactions.copy()\n",
    "conv.loc[: ,'converted'] = (conv.time_completed.isnull()==False)\n",
    "conv.loc[:,'viewed'] = (conv.time_viewed.isnull()==False)"
   ]
  },
  {
   "cell_type": "markdown",
   "metadata": {},
   "source": [
    "we define the over-all-conversion-rate as the ratio of viewed offers to converted meaning completed offers"
   ]
  },
  {
   "cell_type": "code",
   "execution_count": 6,
   "metadata": {},
   "outputs": [
    {
     "data": {
      "text/plain": [
       "0"
      ]
     },
     "execution_count": 6,
     "metadata": {},
     "output_type": "execute_result"
    }
   ],
   "source": [
    "conv_general = conv[conv['offer_id'].isnull()==False]['converted'].sum() / conv[conv['offer_id'].isnull()==False]['viewed'].sum()\n",
    "conv_general"
   ]
  },
  {
   "cell_type": "markdown",
   "metadata": {},
   "source": [
    "we can also split this conversion rate by calculating it on each offer type:  \n",
    "conversion rate separated by offer types"
   ]
  },
  {
   "cell_type": "code",
   "execution_count": 7,
   "metadata": {},
   "outputs": [
    {
     "name": "stdout",
     "output_type": "stream",
     "text": [
      "('bogo', '- conversion: ', 0)\n",
      "('discount', '- conversion: ', 0)\n",
      "('informational', '- conversion: ', 0)\n"
     ]
    }
   ],
   "source": [
    "def conversion_by_offer_type(offer_type, df):\n",
    "    return df[(df['offer_type']==offer_type)]['converted'].sum() / df[(df['offer_type']==offer_type)]['viewed'].sum()\n",
    "\n",
    "for offer in ['bogo','discount','informational']:\n",
    "    print(offer,'- conversion: ',conversion_by_offer_type(offer,conv))\n"
   ]
  },
  {
   "cell_type": "markdown",
   "metadata": {},
   "source": [
    "we can already see that the conversion on an informational offer seems significantly less than offers that reward the customer"
   ]
  },
  {
   "cell_type": "markdown",
   "metadata": {},
   "source": [
    "lets think about some features to be helpful in respect to prognosing how a customer might respond to an offer\n",
    "\n",
    "- average time deltas between received and viewed\n",
    "- average time deltas between viewed and completed\n",
    "- columns for converted per offer_type\n",
    "- number of transactions\n",
    "- average spenditure\n",
    "- accumulation of viewed offers\n",
    "- accumulation of completed offers\n",
    "- accumulated reward\n"
   ]
  },
  {
   "cell_type": "code",
   "execution_count": 8,
   "metadata": {},
   "outputs": [],
   "source": [
    "df = conv.copy()"
   ]
  },
  {
   "cell_type": "code",
   "execution_count": 9,
   "metadata": {},
   "outputs": [
    {
     "data": {
      "text/plain": [
       "Index([u'person', u'time', u'amount', u'offer_id', u'time_received',\n",
       "       u'time_viewed', u'time_completed', u'reward', u'potential_reward',\n",
       "       u'duration', u'offer_type', u'difficulty', u'mobile', u'email',\n",
       "       u'social', u'web', u'age', u'gender', u'income', u'F', u'M', u'O',\n",
       "       u'member_since_month', u'converted', u'viewed'],\n",
       "      dtype='object')"
      ]
     },
     "execution_count": 9,
     "metadata": {},
     "output_type": "execute_result"
    }
   ],
   "source": [
    "df.head(10).columns"
   ]
  },
  {
   "cell_type": "markdown",
   "metadata": {},
   "source": [
    "The calculation of the mentioned features will be done on an iterative basis looping through the dataframe. a vector approach which is usually to be preferred looks much  more difficult to implement here. Columns that can be created on a vector approach will be directly calculated\n",
    "First we need to initilize the values to be calculated"
   ]
  },
  {
   "cell_type": "code",
   "execution_count": 10,
   "metadata": {},
   "outputs": [],
   "source": [
    "# indicating transaction\n",
    "df['is_transaction'] = 0 \n",
    "df.loc[df['offer_type']=='transaction', 'is_transaction'] = 1\n",
    "# is an offer completed\n",
    "df['is_completed'] = 0\n",
    "df.loc[df['converted']==1, 'is_completed'] = 1\n",
    "\n",
    "df['count_offers_completed'] = 0\n",
    "df['count_offers_viewed'] = 0\n",
    "df['count_transactions'] = 0\n",
    "df['avg_spending'] = 0\n",
    "df['avg_reward'] = 0\n",
    "df['delta_time_reception_viewed'] = df['time_viewed'] - df['time_received']\n",
    "df['delta_time_viewed_completion'] = df['time_completed'] - df['time_viewed']\n",
    "df['delta_time_reception_viewed_avg'] = 0\n",
    "df['delta_time_viewed_completion_avg'] = 0"
   ]
  },
  {
   "cell_type": "code",
   "execution_count": null,
   "metadata": {},
   "outputs": [
    {
     "name": "stdout",
     "output_type": "stream",
     "text": [
      "0\n",
      "10000\n",
      "20000\n",
      "30000\n",
      "40000\n",
      "50000\n",
      "60000\n",
      "70000\n",
      "80000\n",
      "90000\n"
     ]
    }
   ],
   "source": [
    "# the following computations are only allowed, if the iteration is within the same \"customer domain\". when customers\n",
    "# change from one row to the next the calculated values may not be carried over otherwise resulting in false numbers\n",
    "df['prev_person'] = df['person'].shift(1)\n",
    "df.reset_index(drop=True,inplace=True)\n",
    "for i, row in df.iterrows():\n",
    "    if i % 10000 == 0: # processing indication\n",
    "        print(i)\n",
    "    if row['person'] == row['prev_person']: # computation only valid if within same person domain\n",
    "        df.loc[i, 'count_offers_completed'] = df.loc[i-1, 'count_offers_completed'] + df.loc[i-1, 'is_completed'] #count completed offers\n",
    "        df.loc[i, 'count_offers_viewed'] = df.loc[i-1, 'count_offers_viewed'] + (1 if df.loc[i-1, 'offer_type'] != 'transaction' else 0) #add viewed offer count\n",
    "        df.loc[i, 'count_transactions'] = df.loc[i-1, 'count_transactions'] + df.loc[i-1, 'is_transaction'] # count transactions done\n",
    "        df.loc[i, 'delta_time_reception_viewed_avg'] = np.nansum((df.loc[i-1, 'delta_time_reception_viewed_avg'], df.loc[i-1, 'delta_time_reception_viewed'])) #add time delta for later averaging\n",
    "        df.loc[i, 'delta_time_viewed_completion_avg'] = np.nansum((df.loc[i-1, 'delta_time_viewed_completion_avg'], df.loc[i-1, 'delta_time_reception_viewed_avg']))#add time delta for later averaging\n",
    "\n",
    "        df.loc[i, 'avg_spending'] = df.loc[i-1, 'avg_spending'] + (0 if df.loc[i-1, 'is_transaction'] == 0 else df.loc[i-1, 'amount']) #accumulate spending\n",
    "        df.loc[i, 'avg_reward'] = np.nansum((df.loc[i-1, 'avg_reward'], df.loc[i-1, 'reward'])) #accumulate rewards\n",
    "\n",
    "# Calculate the averages from the sums\n",
    "df['delta_time_reception_viewed_avg'] /= df['count_offers_viewed']\n",
    "df['delta_time_viewed_completion_avg'] /= df['count_offers_completed']\n",
    "df['avg_spending'] /= df['count_transactions']\n",
    "df['avg_reward'] /= df['count_offers_completed']\n",
    "\n",
    "# treat nan\n",
    "df['delta_time_reception_viewed_avg'].fillna(0, inplace=True)\n",
    "df['delta_time_viewed_completion_avg'].fillna(0, inplace=True)\n",
    "df['avg_spending'].fillna(0, inplace=True)\n",
    "df['avg_reward'].fillna(0,inplace=True)"
   ]
  },
  {
   "cell_type": "code",
   "execution_count": null,
   "metadata": {},
   "outputs": [],
   "source": [
    "for offer_type in ['bogo','discount','informational']:\n",
    "    df.loc[(df['offer_type']==offer_type)&(df['time_completed'].isnull()==False),offer_type] = 1\n",
    "    df.loc[(df['offer_type']==offer_type)&(df['time_completed'].isnull()==True),offer_type] = 0"
   ]
  },
  {
   "cell_type": "code",
   "execution_count": null,
   "metadata": {},
   "outputs": [],
   "source": [
    "df[df['offer_type']=='discount']"
   ]
  },
  {
   "cell_type": "markdown",
   "metadata": {},
   "source": [
    "lets try to get an overview on categorical and numerical features by creating some data frames of conversion"
   ]
  },
  {
   "cell_type": "code",
   "execution_count": null,
   "metadata": {},
   "outputs": [],
   "source": [
    "def sturges_binning(feature, df, correction=1):\n",
    "    '''\n",
    "    function that helps to make the right amount of bins\n",
    "    '''\n",
    "    binning_series = df[feature]\n",
    "    min_ = min(binning_series)\n",
    "    max_ = max(binning_series)\n",
    "    len_ = len(binning_series)\n",
    "    sturges_bin_width = np.ceil((max_ - min_)/(np.ceil(math.log(len_, 2))+correction))\n",
    "    return np.arange(min_,max_+sturges_bin_width,sturges_bin_width)"
   ]
  },
  {
   "cell_type": "code",
   "execution_count": null,
   "metadata": {},
   "outputs": [],
   "source": [
    "def feature_df(feature,df,numerical=True, correction=1):\n",
    "    '''\n",
    "    create data frames with a groupby on calculated bins regarding the feature given\n",
    "    '''\n",
    "    narrow = [feature]+['bogo','discount','informational']\n",
    "    columns = ['bogo','discount','informational']\n",
    "    if numerical:\n",
    "        results = df[narrow].groupby(pd.cut(df[feature],bins=sturges_binning(feature,df,correction))).mean().drop(feature,axis=1)\n",
    "    else:\n",
    "        results =  df[narrow].groupby([feature]).mean()\n",
    "    return results"
   ]
  },
  {
   "cell_type": "code",
   "execution_count": null,
   "metadata": {},
   "outputs": [],
   "source": [
    "df.columns"
   ]
  },
  {
   "cell_type": "code",
   "execution_count": null,
   "metadata": {},
   "outputs": [],
   "source": [
    "### todo put it in data folder\n",
    "data_dir = './data'\n",
    "if not os.path.exists(data_dir):\n",
    "    os.makedirs(data_dir)"
   ]
  },
  {
   "cell_type": "code",
   "execution_count": null,
   "metadata": {},
   "outputs": [],
   "source": [
    "feature_path = os.path.join(data_dir,'features.csv')\n",
    "if os.path.exists(feature_path):\n",
    "    df = pd.read_csv(feature_path)\n",
    "else:\n",
    "    df.to_csv(feature_path)"
   ]
  },
  {
   "cell_type": "code",
   "execution_count": null,
   "metadata": {},
   "outputs": [],
   "source": [
    "import seaborn as sns\n"
   ]
  },
  {
   "cell_type": "markdown",
   "metadata": {},
   "source": [
    "lets display the conversion rates based on different features such as **gender**, **income**, **member_since_month**, **avg_spending** and **count_transactions**"
   ]
  },
  {
   "cell_type": "code",
   "execution_count": null,
   "metadata": {},
   "outputs": [],
   "source": [
    "display(feature_df('gender',df,False))\n",
    "display(feature_df('income',df,numerical=True,correction=-5))\n",
    "display(feature_df('member_since_month',df,numerical=True))\n",
    "display(feature_df('avg_spending',df,numerical=True))\n",
    "display(feature_df('count_transactions',df,numerical=True))"
   ]
  },
  {
   "cell_type": "markdown",
   "metadata": {},
   "source": [
    "we can see in the data frame overview on top that high spendings do not give us any benefit for modelling regarding conversion rate since most of the time there is no data"
   ]
  },
  {
   "cell_type": "code",
   "execution_count": null,
   "metadata": {},
   "outputs": [],
   "source": [
    "ax = sns.heatmap(feature_df('gender',df,False))\n",
    "ax.set_title('distribution of conversion')"
   ]
  },
  {
   "cell_type": "markdown",
   "metadata": {},
   "source": [
    "male customers seem to complete discount offers more likely than bogo offers  \n",
    "femalecustomers tend to complete both types of offers more than male customers. again discount seems more attractive than bogo"
   ]
  },
  {
   "cell_type": "code",
   "execution_count": null,
   "metadata": {},
   "outputs": [],
   "source": [
    "display(sns.heatmap(feature_df('income',df,numerical=True,correction=-5)))\n",
    "ax.set_title('distribution of conversion by income')"
   ]
  },
  {
   "cell_type": "code",
   "execution_count": null,
   "metadata": {},
   "outputs": [],
   "source": [
    "display(sns.heatmap(feature_df('member_since_month',df,numerical=True)))"
   ]
  },
  {
   "cell_type": "code",
   "execution_count": null,
   "metadata": {},
   "outputs": [],
   "source": [
    "display(sns.heatmap(feature_df('avg_spending',df,numerical=True)))"
   ]
  },
  {
   "cell_type": "code",
   "execution_count": null,
   "metadata": {},
   "outputs": [],
   "source": [
    "ax = (sns.heatmap(feature_df('count_transactions',df,numerical=True)))\n",
    "ax.set_title('distribution of conversion')"
   ]
  },
  {
   "cell_type": "markdown",
   "metadata": {},
   "source": [
    "we must determine which columns look interesting for a model to train. from the above mentioned features we take the following"
   ]
  },
  {
   "cell_type": "code",
   "execution_count": null,
   "metadata": {},
   "outputs": [],
   "source": [
    "df.columns"
   ]
  },
  {
   "cell_type": "code",
   "execution_count": null,
   "metadata": {},
   "outputs": [],
   "source": [
    "remove_features = ['person','time','amount', 'offer_id', 'time_received', 'time_viewed', 'mobile', 'email', 'social', 'web','converted','delta_time_reception_viewed','prev_person',\n",
    "       'delta_time_viewed_completion','gender','O','time_completed', 'reward', 'potential_reward', 'duration','offer_type', 'difficulty','is_transaction', ]\n",
    "kept_features = [ 'person',\n",
    "       'age', 'income', 'F', 'M', 'member_since_month','viewed',  'is_completed',\n",
    "       'count_offers_completed', 'count_offers_viewed', 'count_transactions','avg_spending', 'avg_reward',  'delta_time_reception_viewed_avg',\n",
    "       'delta_time_viewed_completion_avg', 'bogo','discount', 'informational']"
   ]
  },
  {
   "cell_type": "code",
   "execution_count": null,
   "metadata": {},
   "outputs": [],
   "source": [
    "df[kept_features]"
   ]
  },
  {
   "cell_type": "code",
   "execution_count": null,
   "metadata": {},
   "outputs": [],
   "source": [
    "bogo = df[df.bogo == 1]\n",
    "bogo_kept= bogo[kept_features]\n",
    "bogo_kept.info()"
   ]
  },
  {
   "cell_type": "code",
   "execution_count": null,
   "metadata": {},
   "outputs": [],
   "source": []
  }
 ],
 "metadata": {
  "kernelspec": {
   "display_name": "conda_python2",
   "language": "python",
   "name": "conda_python2"
  },
  "language_info": {
   "codemirror_mode": {
    "name": "ipython",
    "version": 2
   },
   "file_extension": ".py",
   "mimetype": "text/x-python",
   "name": "python",
   "nbconvert_exporter": "python",
   "pygments_lexer": "ipython2",
   "version": "2.7.16"
  }
 },
 "nbformat": 4,
 "nbformat_minor": 4
}
