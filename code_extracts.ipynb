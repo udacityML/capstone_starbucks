{
 "cells": [
  {
   "cell_type": "code",
   "execution_count": null,
   "metadata": {},
   "outputs": [],
   "source": []
  },
  {
   "cell_type": "markdown",
   "metadata": {},
   "source": [
    "first lets create numerical data out of the offer_type, since it is either ```bogo```, ```discount``` or ```informational``` . Lateron we can remove the last column since being dependant of the first two when using the dataframe for training a model."
   ]
  },
  {
   "cell_type": "code",
   "execution_count": 3,
   "metadata": {},
   "outputs": [],
   "source": [
    "# portfolio = pd.concat([portfolio, pd.get_dummies(portfolio.offer_type)[['bogo','discount','informational']]],axis=1)\n",
    "# portfolio.drop('offer_type',axis=1,inplace=True)\n",
    "# portfolio"
   ]
  },
  {
   "cell_type": "markdown",
   "metadata": {},
   "source": [
    "lets also proceed in the same manner with the ```channels```"
   ]
  },
  {
   "cell_type": "code",
   "execution_count": 4,
   "metadata": {},
   "outputs": [],
   "source": [
    "# # find all unique values of chanenls \n",
    "\n",
    "# unique_channels = list(set(portfolio.channels.sum())) #what are possible channels\n",
    "# unique_channels= [str(channel) for channel in unique_channels] #convert to non unicode strings\n",
    "\n",
    "\n",
    "# # create columns for unique values of channels and do one-hot-encoding - later we might want to reduce it by one dependant column\n",
    "\n",
    "# for channel in unique_channels:\n",
    "#     portfolio[channel] = portfolio['channels'].apply(lambda x: 1 if channel in x else 0)\n",
    "# portfolio.drop('channels',axis=1, inplace=True)\n",
    "\n",
    "# portfolio"
   ]
  },
  {
   "cell_type": "code",
   "execution_count": 5,
   "metadata": {},
   "outputs": [],
   "source": [
    "# portfolio.set_index('id',inplace=True)"
   ]
  }
 ],
 "metadata": {
  "kernelspec": {
   "display_name": "",
   "name": ""
  },
  "language_info": {
   "name": ""
  }
 },
 "nbformat": 4,
 "nbformat_minor": 4
}
